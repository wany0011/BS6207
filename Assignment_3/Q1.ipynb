{
 "cells": [
  {
   "cell_type": "markdown",
   "id": "529234d9",
   "metadata": {},
   "source": [
    "# Question 1: "
   ]
  },
  {
   "cell_type": "code",
   "execution_count": 1,
   "id": "692a5e16",
   "metadata": {},
   "outputs": [],
   "source": [
    "import torch\n",
    "import torch.nn as nn\n",
    "import numpy as np\n",
    "import math\n",
    "from sklearn.metrics import mean_squared_error\n",
    "import torchvision"
   ]
  },
  {
   "cell_type": "code",
   "execution_count": 2,
   "id": "2a14b6ab",
   "metadata": {},
   "outputs": [],
   "source": [
    "input=torch.randn(1,3,32,32)"
   ]
  },
  {
   "cell_type": "markdown",
   "id": "ec5f473a",
   "metadata": {},
   "source": [
    "## 1-1 : torch.nn.MaxPool2d"
   ]
  },
  {
   "cell_type": "markdown",
   "id": "5a54c3fc",
   "metadata": {},
   "source": [
    "> torch_output"
   ]
  },
  {
   "cell_type": "code",
   "execution_count": 3,
   "id": "24245135",
   "metadata": {},
   "outputs": [],
   "source": [
    "\n",
    "m=nn.MaxPool2d(kernel_size=2, stride=1, padding=0,dilation=1, return_indices=False, ceil_mode=False)\n",
    "torch_out=m(input)"
   ]
  },
  {
   "cell_type": "code",
   "execution_count": 4,
   "id": "6336e2c3",
   "metadata": {},
   "outputs": [
    {
     "data": {
      "text/plain": [
       "torch.Size([1, 3, 31, 31])"
      ]
     },
     "execution_count": 4,
     "metadata": {},
     "output_type": "execute_result"
    }
   ],
   "source": [
    "torch_out.size()"
   ]
  },
  {
   "cell_type": "code",
   "execution_count": 5,
   "id": "31c448fb",
   "metadata": {},
   "outputs": [],
   "source": [
    "class myMaxPool2d(nn.Module):\n",
    "    def __init__(self,kernel_size=2, stride=1, padding=0,dilation=1, return_indices=False, ceil_mode=False):\n",
    "        super(myMaxPool2d,self).__init__()\n",
    "        self.kernel_size=kernel_size\n",
    "        self.stride=stride\n",
    "        self.padding=padding\n",
    "        self.dilation=dilation\n",
    "        \n",
    "    def forward(self,input):\n",
    "        kernel_width=self.kernel_size\n",
    "        kernel_height=self.kernel_size\n",
    "               \n",
    "        padding_width = self.padding\n",
    "        padding_height = self.padding\n",
    "        \n",
    "        stride_width = self.stride\n",
    "        stride_height = self.stride\n",
    "        \n",
    "        dilation_width = self.dilation\n",
    "        dilation_height = self.dilation\n",
    "        \n",
    "        x_batch=input.shape[0]\n",
    "        x_channel=input.shape[1]\n",
    "        x_height=input.shape[2]\n",
    "        x_weight=input.shape[3]\n",
    "        \n",
    "        y_width = math.floor((x_weight+padding_width*2-dilation_width*(kernel_width-1)-1)/stride_width+1)\n",
    "        y_height = math.floor((x_height+padding_height*2-dilation_height*(kernel_height-1)-1)/stride_width+1)\n",
    "       \n",
    "        #print(x_weight+padding_weight*2)\n",
    "        #print((-dilation_weight*(kernel_weight-1)-1)/stride_weight)\n",
    "              \n",
    "        #print(\"y_weight=%d,y_height=%d\"%(y_weight,y_height))\n",
    "       \n",
    "        y=np.zeros((x_batch,x_channel,y_height,y_width))\n",
    "\n",
    "        for i in range(x_batch):\n",
    "            for j in range(x_channel):\n",
    "                for k in range(y_height):\n",
    "                    for l in range(y_width): \n",
    "                        ll = l*stride_width\n",
    "                        lr = ll + kernel_width\n",
    "                        kl = k*stride_height\n",
    "                        kr = kl+kernel_height\n",
    "                        #print(\"i=%d j=%d l=%d:%d r=%d:%d\"%(i,j,ll,lr,kl,kr))\n",
    "                        y[i,j,k,l]=np.amax(input[i,j,kl:kr,ll:lr])\n",
    "        return(y)"
   ]
  },
  {
   "cell_type": "markdown",
   "id": "b2c2fa48",
   "metadata": {},
   "source": [
    ">  my_output"
   ]
  },
  {
   "cell_type": "code",
   "execution_count": 6,
   "id": "cc888696",
   "metadata": {},
   "outputs": [],
   "source": [
    "impl=myMaxPool2d()\n",
    "my_out=impl(input.numpy())\n",
    "#print(my_output.shape)"
   ]
  },
  {
   "cell_type": "markdown",
   "id": "d790d93a",
   "metadata": {},
   "source": [
    "> Check the difference"
   ]
  },
  {
   "cell_type": "code",
   "execution_count": 7,
   "id": "b0da951f",
   "metadata": {},
   "outputs": [
    {
     "data": {
      "text/plain": [
       "0.0"
      ]
     },
     "execution_count": 7,
     "metadata": {},
     "output_type": "execute_result"
    }
   ],
   "source": [
    "mean_squared_error(torch_out.numpy().flatten(),my_out.flatten())"
   ]
  },
  {
   "cell_type": "markdown",
   "id": "bb45b30d",
   "metadata": {},
   "source": [
    "***"
   ]
  },
  {
   "cell_type": "markdown",
   "id": "88cded98",
   "metadata": {},
   "source": [
    "## 1-2: AvgPool2d"
   ]
  },
  {
   "cell_type": "markdown",
   "id": "3011c343",
   "metadata": {},
   "source": [
    "> torch output"
   ]
  },
  {
   "cell_type": "code",
   "execution_count": 8,
   "id": "4f2d08cb",
   "metadata": {},
   "outputs": [],
   "source": [
    "m=nn.AvgPool2d(kernel_size=2, stride=1, padding=0,ceil_mode=False, count_include_pad=True,divisor_override=None)\n",
    "torch_out=m(input)"
   ]
  },
  {
   "cell_type": "code",
   "execution_count": 9,
   "id": "72beee9e",
   "metadata": {},
   "outputs": [],
   "source": [
    "class myAvgPool2d(nn.Module):\n",
    "    def __init__(self,kernel_size=2, stride=1, padding=0,ceil_mode=False, count_include_pad=True,divisor_override=None):\n",
    "        super(myAvgPool2d,self).__init__()\n",
    "        self.kernel_size=kernel_size\n",
    "        self.stride=stride\n",
    "        self.padding=padding\n",
    "        \n",
    "    def forward(self,input):\n",
    "        kernel_width=self.kernel_size\n",
    "        kernel_height=self.kernel_size\n",
    "               \n",
    "        padding_width = self.padding\n",
    "        padding_height = self.padding\n",
    "        \n",
    "        stride_width = self.stride\n",
    "        stride_height = self.stride\n",
    "        \n",
    "        \n",
    "        x_batch=input.shape[0]\n",
    "        x_channel=input.shape[1]\n",
    "        x_height=input.shape[2]\n",
    "        x_width=input.shape[3]\n",
    "        \n",
    "        #print(\"%x_batch=d, x_channel=%d, x_weight=%d,x_height=%d\"%(x_batch,x_channel,x_weight,x_height))\n",
    "       \n",
    "        # for simplicity, assume \n",
    "        # (a) ceiling =FALSE; \n",
    "        # (b) square kernel and squre padding\n",
    "        \n",
    "        y_width = math.floor((x_width+padding_width*2-(kernel_width-1)-1)/stride_width+1)\n",
    "        y_height = math.floor((x_height+padding_height*2-(kernel_height-1)-1)/stride_height+1)\n",
    "       \n",
    "        #print(\"y_weight=%d,y_height=%d\"%(y_weight,y_height))\n",
    "       \n",
    "        y=np.zeros((x_batch,x_channel,y_height,y_width))\n",
    "\n",
    "        for i in range(x_batch):\n",
    "            for j in range(x_channel):\n",
    "                for k in range(y_height):\n",
    "                    for l in range(y_width): \n",
    "                        ll = l*stride_width\n",
    "                        lr = ll + kernel_width\n",
    "                        kl = k*stride_height\n",
    "                        kr = kl+kernel_height\n",
    "                        #print(\"i=%d j=%d l=%d:%d r=%d:%d\"%(i,j,ll,lr,kl,kr))\n",
    "                        y[i,j,k,l]=np.average(input[i,j,kl:kr,ll:lr])\n",
    "        return(y)"
   ]
  },
  {
   "cell_type": "markdown",
   "id": "2978a6be",
   "metadata": {},
   "source": [
    "> my output"
   ]
  },
  {
   "cell_type": "code",
   "execution_count": 10,
   "id": "ade9577b",
   "metadata": {},
   "outputs": [],
   "source": [
    "impl=myAvgPool2d()\n",
    "my_out=impl(input.numpy())"
   ]
  },
  {
   "cell_type": "markdown",
   "id": "c0689356",
   "metadata": {},
   "source": [
    "> Check the difference"
   ]
  },
  {
   "cell_type": "code",
   "execution_count": 11,
   "id": "f4ca17f9",
   "metadata": {},
   "outputs": [
    {
     "data": {
      "text/plain": [
       "0.0"
      ]
     },
     "execution_count": 11,
     "metadata": {},
     "output_type": "execute_result"
    }
   ],
   "source": [
    "mean_squared_error(torch_out.numpy().flatten(),my_out.flatten())"
   ]
  },
  {
   "cell_type": "markdown",
   "id": "96eafb31",
   "metadata": {},
   "source": [
    "***"
   ]
  },
  {
   "cell_type": "markdown",
   "id": "53f063db",
   "metadata": {},
   "source": [
    "## 1-3: Conv2d"
   ]
  },
  {
   "cell_type": "markdown",
   "id": "9851677d",
   "metadata": {},
   "source": [
    "> torch output"
   ]
  },
  {
   "cell_type": "code",
   "execution_count": 12,
   "id": "f2196bd0",
   "metadata": {},
   "outputs": [],
   "source": [
    "m=nn.Conv2d(in_channels=3, out_channels=6,kernel_size=3, stride=1, padding=0, dilation=1, groups=1,bias=True, padding_mode='zeros')\n",
    "torch_out=m(input)\n",
    "torch_weight = m.weight.data\n",
    "torch_bias = m.bias.data"
   ]
  },
  {
   "cell_type": "code",
   "execution_count": 13,
   "id": "24b8c649",
   "metadata": {},
   "outputs": [
    {
     "name": "stdout",
     "output_type": "stream",
     "text": [
      "torch.Size([6, 3, 3, 3])\n",
      "torch.Size([6])\n"
     ]
    }
   ],
   "source": [
    "print(torch_weight.shape)\n",
    "print(torch_bias.shape)"
   ]
  },
  {
   "cell_type": "code",
   "execution_count": 14,
   "id": "294f1ece",
   "metadata": {},
   "outputs": [],
   "source": [
    "class myConv2d(nn.Module):\n",
    "    def __init__(self,in_channels=3, out_channels=6,kernel_size=3, stride=1, padding=0, dilation=1, groups=1,bias=True, padding_mode='zeros'):\n",
    "        super(myConv2d,self).__init__()\n",
    "        self.kernel_size=kernel_size\n",
    "        self.stride=stride\n",
    "        self.padding=padding\n",
    "                 \n",
    "        self.out_channels=out_channels         \n",
    "        \n",
    "    def forward(self,input):\n",
    "        kernel_width=self.kernel_size\n",
    "        kernel_height=self.kernel_size\n",
    "                   \n",
    "        padding_width = self.padding\n",
    "        padding_height = self.padding\n",
    "        \n",
    "        stride_width = self.stride\n",
    "        stride_height = self.stride\n",
    "        \n",
    "        \n",
    "        x_batch=input.shape[0]\n",
    "        x_channel=input.shape[1]\n",
    "        x_height=input.shape[2]\n",
    "        x_width=input.shape[3]\n",
    "        \n",
    "        #print(\"%x_batch=d, x_channel=%d, x_weight=%d,x_height=%d\"%(x_batch,x_channel,x_weight,x_height))\n",
    "       \n",
    "        # for simplicity, assume \n",
    "        # (a) ceiling =FALSE; \n",
    "        # (b) square kernel and squre padding\n",
    "        \n",
    "        y_width = math.floor((x_width+padding_width*2-(kernel_width-1)-1)/stride_width+1)\n",
    "        y_height = math.floor((x_height+padding_height*2-(kernel_height-1)-1)/stride_height+1)\n",
    "       \n",
    "        #print(\"y_weight=%d,y_height=%d\"%(y_weight,y_height))\n",
    "       \n",
    "        y=np.zeros((x_batch, self.out_channels,y_height,y_width))\n",
    "\n",
    "        for i in range(x_batch):\n",
    "            for c in range(self.out_channels):\n",
    "                 for j in range(x_channel):\n",
    "                        for k in range(y_height):\n",
    "                            for l in range(y_width): \n",
    "                                ll = l*stride_width\n",
    "                                lr = ll + kernel_width\n",
    "                                kl = k*stride_height\n",
    "                                kr = kl+kernel_height\n",
    "                                #print(\"i=%d j=%d l=%d:%d r=%d:%d\"%(i,j,ll,lr,kl,kr))\n",
    "                                y[i, c, k, l] += (input[i, j, kl:kr,ll:lr] * torch_weight[c][j].numpy()).sum()\n",
    "        \n",
    "            for i in range(self.out_channels):\n",
    "                y[0][i] += torch_bias[i].numpy()\n",
    "        \n",
    "        return(y)"
   ]
  },
  {
   "cell_type": "markdown",
   "id": "8e620a8d",
   "metadata": {},
   "source": [
    "> my output"
   ]
  },
  {
   "cell_type": "code",
   "execution_count": 15,
   "id": "80d3e858",
   "metadata": {},
   "outputs": [],
   "source": [
    "impl=myConv2d()\n",
    "my_out=impl(input.numpy())"
   ]
  },
  {
   "cell_type": "markdown",
   "id": "9d487ccf",
   "metadata": {},
   "source": [
    "> Check the difference"
   ]
  },
  {
   "cell_type": "code",
   "execution_count": 17,
   "id": "de80eb50",
   "metadata": {},
   "outputs": [
    {
     "data": {
      "text/plain": [
       "4.838458065133246e-15"
      ]
     },
     "execution_count": 17,
     "metadata": {},
     "output_type": "execute_result"
    }
   ],
   "source": [
    "torch_flatten=torch_out.detach().numpy().flatten()\n",
    "my_flatten=my_out.flatten()\n",
    "mean_squared_error(torch_flatten,my_flatten)"
   ]
  },
  {
   "cell_type": "markdown",
   "id": "5afc4700",
   "metadata": {},
   "source": [
    "> some minor difference due to floating point arithmatics"
   ]
  },
  {
   "cell_type": "code",
   "execution_count": 18,
   "id": "60d4b668",
   "metadata": {},
   "outputs": [
    {
     "data": {
      "text/plain": [
       "array([ 0.9718749 ,  0.58248353,  0.7136466 , ...,  0.14838868,\n",
       "       -0.77434736, -0.26057613], dtype=float32)"
      ]
     },
     "execution_count": 18,
     "metadata": {},
     "output_type": "execute_result"
    }
   ],
   "source": [
    "torch_flatten"
   ]
  },
  {
   "cell_type": "code",
   "execution_count": 19,
   "id": "9afc9614",
   "metadata": {},
   "outputs": [
    {
     "data": {
      "text/plain": [
       "array([ 0.97187494,  0.58248357,  0.7136467 , ...,  0.14838862,\n",
       "       -0.77434734, -0.26057605])"
      ]
     },
     "execution_count": 19,
     "metadata": {},
     "output_type": "execute_result"
    }
   ],
   "source": [
    "my_flatten"
   ]
  },
  {
   "cell_type": "markdown",
   "id": "4f69185d",
   "metadata": {},
   "source": [
    "***"
   ]
  },
  {
   "cell_type": "markdown",
   "id": "2bac74ac",
   "metadata": {},
   "source": [
    "# 1.4 Conv2d with dilation>1"
   ]
  },
  {
   "cell_type": "markdown",
   "id": "316850ca",
   "metadata": {},
   "source": [
    "> torch output"
   ]
  },
  {
   "cell_type": "code",
   "execution_count": 20,
   "id": "64cba13d",
   "metadata": {},
   "outputs": [
    {
     "name": "stdout",
     "output_type": "stream",
     "text": [
      "torch.Size([1, 6, 12, 12])\n",
      "torch.Size([6, 3, 5, 5])\n",
      "torch.Size([6])\n"
     ]
    }
   ],
   "source": [
    "m=nn.Conv2d(in_channels=3, out_channels=6,kernel_size=5, stride=2, padding=0, dilation=2, groups=1,bias=True, padding_mode='zeros')\n",
    "torch_out=m(input)\n",
    "torch_weight = m.weight.data\n",
    "torch_bias = m.bias.data\n",
    "\n",
    "print(torch_out.size())\n",
    "print(torch_weight.size())\n",
    "print(torch_bias.size())"
   ]
  },
  {
   "cell_type": "code",
   "execution_count": 21,
   "id": "414b62da",
   "metadata": {},
   "outputs": [],
   "source": [
    "class myConv2d_2(nn.Module):\n",
    "    def __init__(self,in_channels=3, out_channels=6,kernel_size=5, stride=2, padding=0, dilation=2, groups=1,bias=True, padding_mode='zeros'):\n",
    "        super(myConv2d_2,self).__init__()\n",
    "        self.kernel_size=kernel_size\n",
    "        self.stride=stride\n",
    "        self.padding=padding\n",
    "        \n",
    "        self.dilation = dilation\n",
    "                 \n",
    "        self.out_channels=out_channels         \n",
    "        \n",
    "    def forward(self,input):\n",
    "        kernel_width=self.kernel_size\n",
    "        kernel_height=self.kernel_size\n",
    "                   \n",
    "        padding_width = self.padding\n",
    "        padding_height = self.padding\n",
    "        \n",
    "        stride_width = self.stride\n",
    "        stride_height = self.stride\n",
    "        \n",
    "        \n",
    "        x_batch=input.shape[0]\n",
    "        x_channel=input.shape[1]\n",
    "        x_height=input.shape[2]\n",
    "        x_width=input.shape[3]\n",
    "        \n",
    "        y_width = math.floor((x_width+padding_width*2-self.dilation*(kernel_width-1)-1)/stride_width+1)\n",
    "        y_height = math.floor((x_height+padding_height*2-self.dilation*(kernel_height-1)-1)/stride_height+1)\n",
    "    \n",
    "        #print(\"y_weight=%d,y_height=%d\"%(y_width,y_height))\n",
    "    \n",
    "    \n",
    "        y=np.zeros((x_batch, self.out_channels,y_height,y_width))\n",
    "        \n",
    "        weights = np.zeros((self.out_channels,x_channel,kernel_height* self.dilation-1,kernel_width* self.dilation-1))\n",
    "        \n",
    "        #print(y.shape)\n",
    "        #print(weights.shape)\n",
    "        \n",
    "        for c in range(self.out_channels):\n",
    "            for j in range(x_channel):\n",
    "                for k in range(kernel_height):\n",
    "                    for l in range(kernel_width):\n",
    "                        weights[c, j, k * self.dilation, l * self.dilation] = torch_weight[c, j, k, l]\n",
    "\n",
    "        for i in range(x_batch):\n",
    "            for c in range(self.out_channels):\n",
    "                 for j in range(x_channel):\n",
    "                        for k in range(y_height):\n",
    "                            for l in range(y_width): \n",
    "                                kl = k*stride_height\n",
    "                                kr = kl+kernel_height*self.dilation-1\n",
    "                                \n",
    "                                ll = l*stride_width\n",
    "                                lr = ll + kernel_width*self.dilation-1\n",
    "                                #print(\"i=%d j=%d l=%d:%d r=%d:%d\"%(i,j,ll,lr,kl,kr))\n",
    "                                y[i, c, k, l] += (input[i, j, kl:kr,ll:lr] * weights[c][j]).sum()\n",
    "        \n",
    "            for i in range(self.out_channels):\n",
    "                y[0][i] += torch_bias[i].numpy()\n",
    "        \n",
    "        return(y)"
   ]
  },
  {
   "cell_type": "markdown",
   "id": "9264d0a2",
   "metadata": {},
   "source": [
    "> my output"
   ]
  },
  {
   "cell_type": "code",
   "execution_count": 22,
   "id": "f78cc1ec",
   "metadata": {},
   "outputs": [],
   "source": [
    "impl=myConv2d_2()\n",
    "my_out=impl(input.numpy())"
   ]
  },
  {
   "cell_type": "markdown",
   "id": "f451dd94",
   "metadata": {},
   "source": [
    "> Check the difference"
   ]
  },
  {
   "cell_type": "code",
   "execution_count": 25,
   "id": "4e16812b",
   "metadata": {},
   "outputs": [
    {
     "data": {
      "text/plain": [
       "8.664802881307877e-15"
      ]
     },
     "execution_count": 25,
     "metadata": {},
     "output_type": "execute_result"
    }
   ],
   "source": [
    "torch_flatten=torch_out.detach().numpy().flatten()\n",
    "my_flatten=my_out.flatten()\n",
    "mean_squared_error(torch_flatten,my_flatten)"
   ]
  },
  {
   "cell_type": "code",
   "execution_count": 26,
   "id": "0a6f027d",
   "metadata": {},
   "outputs": [
    {
     "data": {
      "text/plain": [
       "array([-7.47435331e-01,  1.28319705e+00,  2.86253333e-01,  9.90206957e-01,\n",
       "        4.18511450e-01,  6.93405271e-01,  3.93564194e-01,  3.99817526e-01,\n",
       "       -4.40417141e-01,  4.92162667e-02,  1.54106930e-01, -9.42227960e-01,\n",
       "        6.69521332e-01,  5.27054310e-01,  1.87416387e+00,  8.46657693e-01,\n",
       "        2.50869244e-01,  2.73079753e-01, -8.36745724e-02, -6.45477712e-01,\n",
       "       -1.06390572e+00, -1.48029232e+00,  2.06011981e-02,  1.85969427e-01,\n",
       "       -3.51295263e-01,  2.85909176e-01,  3.57178710e-02,  3.68878245e-01,\n",
       "       -5.24603069e-01, -1.27037108e+00, -1.15260541e+00,  5.79615496e-02,\n",
       "       -9.56859410e-01, -1.60745525e+00, -6.18579574e-02,  2.41684064e-01,\n",
       "       -1.24229980e+00, -5.89672104e-02, -1.07209183e-01, -5.63483417e-01,\n",
       "       -2.24590927e-01, -7.64131486e-01, -2.31330022e-01,  2.82435656e-01,\n",
       "       -2.46507287e-01,  9.48250592e-01, -1.40352510e-02,  4.64826941e-01,\n",
       "       -7.28797138e-01, -1.06858456e+00, -4.26149845e-01, -7.06250608e-01,\n",
       "       -8.76295388e-01, -4.97114629e-01, -4.86313224e-01,  9.65419471e-01,\n",
       "        5.42498171e-01, -8.32581520e-02,  5.47771096e-01,  5.28537869e-01,\n",
       "       -1.60144538e-01, -6.84373174e-03, -8.00569654e-01, -1.32899857e+00,\n",
       "        1.21958114e-01, -1.08929336e+00,  3.62677425e-01,  4.38020587e-01,\n",
       "        8.02069157e-02, -1.51730508e-01, -5.18759727e-01, -4.52259257e-02,\n",
       "        4.58844811e-01, -1.19128712e-01,  8.17961454e-01, -7.18171716e-01,\n",
       "        3.64893854e-01, -5.35016358e-01,  1.02155499e-01, -4.46700841e-01,\n",
       "        2.75016218e-01,  7.28936851e-01, -7.70447910e-01, -6.10876620e-01,\n",
       "        8.33084702e-01,  1.35036790e+00, -1.67746097e-01, -5.28053641e-02,\n",
       "       -6.05628155e-02, -2.69159019e-01, -3.12696733e-02,  9.19703186e-01,\n",
       "        2.22053990e-01,  1.62255466e-01, -5.19708395e-02,  6.02755904e-01,\n",
       "        1.13096428e+00, -5.24709404e-01,  1.33502233e+00,  7.84277499e-01,\n",
       "       -4.68932956e-01, -3.73868068e-04,  6.07445180e-01,  4.55102772e-01,\n",
       "       -1.59095109e-01,  6.44363284e-01,  6.54729247e-01,  6.66773200e-01,\n",
       "        1.50659823e+00,  9.23898816e-01, -4.62786913e-01,  5.57445049e-01,\n",
       "       -2.64010914e-02,  2.22573996e-01, -9.36725974e-01, -3.73002365e-02,\n",
       "        3.23833644e-01,  8.71850550e-01, -4.42363918e-01,  1.02475986e-01,\n",
       "       -8.59885663e-03,  8.15165460e-01,  1.83565915e-01,  9.99042273e-01,\n",
       "        9.92745161e-01, -4.10416931e-01,  1.45837799e-01,  5.01699507e-01,\n",
       "       -5.45632780e-01,  1.29458815e-01, -2.63137639e-01,  2.99790770e-01,\n",
       "        8.20658386e-01, -1.45012677e-01,  3.93447101e-01,  1.13317168e+00,\n",
       "        1.79484296e+00,  3.56716067e-02, -3.43412817e-01,  4.72845614e-01,\n",
       "        4.91573215e-01, -1.77294090e-01, -3.29006344e-01, -4.04367864e-01,\n",
       "        2.90570408e-01, -6.04574680e-01, -3.95069540e-01,  5.10746874e-02,\n",
       "        8.85355711e-01, -3.85934889e-01, -3.11208636e-01,  5.52545249e-01,\n",
       "       -2.24052370e-01,  3.01768988e-01, -1.33105963e-01,  3.48768741e-01,\n",
       "        3.68040055e-01,  4.56013232e-01,  1.20824718e+00,  1.27066504e-02,\n",
       "        3.58759463e-01,  3.67317289e-01, -8.41090381e-01, -5.39946079e-01,\n",
       "       -6.57172948e-02, -8.25514570e-02, -5.42680025e-01,  9.11694020e-03,\n",
       "        3.76257271e-01,  3.06314319e-01,  4.96560991e-01,  3.29130322e-01,\n",
       "        2.82576561e-01,  6.56133413e-01,  4.95029867e-01,  2.15012431e-01,\n",
       "        4.66019241e-03, -1.40277103e-01,  2.89798379e-01, -7.56090999e-01,\n",
       "       -8.90396237e-01, -4.65397686e-02, -5.12006521e-01, -6.02693520e-02,\n",
       "        5.31425297e-01,  1.36178076e-01,  4.44562525e-01, -8.57885599e-01,\n",
       "        6.73852682e-01,  6.38907194e-01, -4.26589966e-01,  2.12246910e-01,\n",
       "        7.83588707e-01, -5.10763288e-01, -2.14547366e-01, -1.10475075e+00,\n",
       "        4.65807170e-01, -2.81748831e-01,  1.89491242e-01, -3.13268006e-01,\n",
       "        5.34550846e-01,  7.72559524e-01,  1.05331026e-01,  3.45837653e-01,\n",
       "        1.44678250e-01,  8.32073763e-02, -5.48714511e-02,  7.41737962e-01,\n",
       "        2.38600168e-02, -7.54728675e-01, -2.75484711e-01, -5.89052320e-01,\n",
       "       -9.14935887e-01, -2.00886145e-01, -3.33605483e-02,  1.38725650e+00,\n",
       "       -5.25808871e-01, -1.59411335e+00,  8.12790215e-01, -1.39022851e+00,\n",
       "       -8.70840102e-02,  5.45724750e-01,  3.99281591e-01, -3.89271037e-04,\n",
       "       -6.44985497e-01, -1.01534247e+00, -2.26056889e-01, -2.49705255e-01,\n",
       "        7.99379706e-01, -1.00305355e+00, -3.06083113e-01, -1.47566348e-01,\n",
       "        2.18341559e-01,  4.01353203e-02,  5.77456951e-01,  1.74142271e-01,\n",
       "        5.70589483e-01,  2.20147893e-01,  4.22465980e-01, -3.06305647e-01,\n",
       "        1.17186344e+00, -3.96584630e-01,  9.54901218e-01, -7.17518330e-01,\n",
       "       -3.51553082e-01, -4.72495615e-01,  8.40588450e-01, -4.13603157e-01,\n",
       "        4.71360415e-01,  6.44698083e-01, -2.97534727e-02,  1.56400248e-01,\n",
       "       -8.69445875e-02,  3.56716871e-01,  8.33109498e-01,  4.56351876e-01,\n",
       "        4.45891559e-01, -1.22531855e+00,  7.76605308e-01,  4.33401912e-01,\n",
       "        1.33784622e-01, -3.31049174e-01,  3.65739435e-01,  2.88357496e-01,\n",
       "       -4.52098131e-01,  2.43222892e-01,  9.14705813e-01,  3.87506932e-01,\n",
       "        5.44952035e-01,  3.52826864e-01,  3.08687091e-02,  3.08139503e-01,\n",
       "        3.39793235e-01,  7.15524554e-01, -8.70650053e-01, -1.69954926e-01,\n",
       "        1.64808750e-01, -4.97037053e-01,  1.20492160e+00, -3.35932046e-01,\n",
       "       -4.72427234e-02,  4.08866286e-01,  1.11236429e+00, -2.99889445e-01,\n",
       "       -3.28837991e-01, -3.42278749e-01, -7.96898082e-02, -7.22248375e-01,\n",
       "        4.50762659e-02,  4.38953578e-01,  2.26592049e-01, -6.93091676e-02,\n",
       "       -1.04212701e+00, -9.83744264e-01, -3.74752611e-01,  4.12393332e-01,\n",
       "       -7.90453851e-01,  1.62872896e-01, -5.99379204e-02,  5.19515932e-01,\n",
       "        1.14285254e+00, -9.47920322e-01, -5.52384496e-01, -9.63223398e-01,\n",
       "       -6.96795702e-01, -6.38578534e-01,  1.12875290e-01, -7.78612733e-01,\n",
       "        4.11170810e-01, -4.93886769e-01, -2.69476950e-01, -7.96484649e-01,\n",
       "       -6.10041678e-01, -5.95474482e-01, -1.61560059e+00, -9.02758539e-01,\n",
       "       -1.07017839e+00, -3.29555273e-01,  4.35431361e-01,  6.71114400e-02,\n",
       "       -2.38669097e-01,  5.46420038e-01,  3.87809537e-02,  1.26400101e+00,\n",
       "       -3.75185609e-01, -4.15869653e-01, -4.65096273e-02, -8.70789587e-01,\n",
       "        2.12925419e-01, -7.87304640e-01, -9.67710689e-02,  2.11156532e-02,\n",
       "       -2.74432957e-01, -1.03836465e+00, -3.46175998e-01,  7.91841075e-02,\n",
       "       -3.18079919e-01,  4.84351546e-01, -1.60351634e-01,  1.90808699e-01,\n",
       "       -2.01740310e-01, -7.41489112e-01, -7.03719139e-01, -1.19820438e-01,\n",
       "       -4.69256043e-01,  2.37510428e-01, -1.25283122e-01, -2.23287299e-01,\n",
       "        8.70515466e-01,  6.24774694e-01,  7.88506448e-01, -1.16690677e-02,\n",
       "       -1.03165841e+00,  3.39820355e-01,  5.73416233e-01, -3.76305997e-01,\n",
       "       -3.23539646e-03, -5.61980963e-01,  4.11777169e-01,  3.43426764e-01,\n",
       "        6.75037205e-01, -6.38397157e-01,  6.36719286e-01,  4.46268290e-01,\n",
       "        7.39806771e-01,  2.27935657e-01,  2.23999768e-01, -2.13145360e-01,\n",
       "        3.60896558e-01,  6.08377755e-01, -1.21164787e+00, -6.98376179e-01,\n",
       "        4.19471979e-01,  7.96623945e-01, -4.21951711e-02,  1.06756854e+00,\n",
       "        9.34850574e-01, -2.80666053e-01,  7.05221355e-01,  1.11937690e+00,\n",
       "        4.96025681e-01,  5.94269753e-01, -6.69506490e-01, -5.28379679e-01,\n",
       "       -2.37681657e-01, -1.79226249e-01,  1.39699316e+00, -3.37169111e-01,\n",
       "        1.06860232e+00,  2.31268272e-01,  7.67731249e-01,  4.22381818e-01,\n",
       "        2.75705099e-01,  3.85640234e-01,  1.58845857e-01,  8.17622617e-03,\n",
       "        5.51188052e-01, -3.00109744e-01,  7.06686795e-01,  8.55187476e-01,\n",
       "        8.82186170e-04,  5.94388187e-01,  8.00784171e-01, -6.98807657e-01,\n",
       "        3.95657644e-02, -1.71980143e-01, -6.62023604e-01,  8.54572505e-02,\n",
       "       -1.00636676e-01,  1.99472964e-01, -2.46592864e-01, -1.50640383e-01,\n",
       "        2.31220558e-01, -8.97274673e-01, -6.34523690e-01,  5.89476898e-02,\n",
       "        3.35057855e-01, -1.13549793e+00, -6.43903434e-01,  8.37741733e-01,\n",
       "        4.29910213e-01, -2.41576985e-01,  2.07803696e-01, -5.93820453e-01,\n",
       "       -9.06713903e-02, -9.58810627e-01, -7.16661453e-01,  8.35609958e-02,\n",
       "        8.76013637e-01,  5.44029713e-01,  5.14468551e-01, -1.48078091e-02,\n",
       "       -4.21502113e-01,  9.90786612e-01,  5.69805443e-01, -4.23568696e-01,\n",
       "       -4.04576957e-02,  6.48491383e-01,  7.66601801e-01, -1.65501043e-01,\n",
       "       -1.56057072e+00, -5.94363928e-01,  7.24366724e-01, -6.29839540e-01,\n",
       "       -9.25719664e-02, -3.65835875e-01,  9.93382692e-01, -7.89451718e-01,\n",
       "       -1.21859121e+00, -1.71514899e-01,  6.73620477e-02,  3.84524912e-01,\n",
       "       -6.46473348e-01,  1.64740816e-01, -4.41685528e-01, -6.89616978e-01,\n",
       "        2.87744194e-01, -1.80061638e-01,  5.98716497e-01, -3.29733461e-01,\n",
       "       -1.68878210e+00, -1.10675585e+00, -6.53223813e-01,  3.68286133e-01,\n",
       "        9.76725876e-01,  1.91334337e-01,  4.45349395e-01,  3.67720351e-02,\n",
       "       -3.89240265e-01, -1.64912839e-03, -3.46446186e-01, -4.57610965e-01,\n",
       "       -3.37690651e-01,  5.57358801e-01,  1.52037454e+00,  7.07423031e-01,\n",
       "       -4.45288330e-01,  5.07280648e-01, -1.55458927e+00,  2.21610561e-01,\n",
       "        3.71329606e-01, -1.85746342e-01, -5.38063645e-02,  6.69040859e-01,\n",
       "        2.87533104e-01, -3.62324178e-01, -3.14737886e-01,  2.24748284e-01,\n",
       "        8.79647583e-02, -9.14121389e-01, -4.68683392e-01, -7.45144546e-01,\n",
       "       -1.56553879e-01,  1.03150082e+00, -6.34483173e-02,  6.34040833e-01,\n",
       "       -6.35091066e-01, -2.01276183e-01, -4.05099481e-01,  1.03940337e-03,\n",
       "        1.23897545e-01,  3.34775746e-01,  8.86735544e-02,  2.51292616e-01,\n",
       "        4.82699633e-01,  1.35097519e-01,  4.35171187e-01,  4.90188807e-01,\n",
       "       -8.73286009e-01, -4.90680337e-02, -6.25099242e-01, -1.76469728e-01,\n",
       "        2.07372084e-01,  7.82232344e-01,  1.09793997e+00, -4.49967891e-01,\n",
       "       -5.34405947e-01,  1.27202511e+00, -3.19560438e-01,  1.41826570e+00,\n",
       "       -1.52526066e-01,  4.23582107e-01, -1.08461809e+00, -7.29343414e-01,\n",
       "       -9.64488745e-01,  2.46943027e-01,  4.04790342e-01,  4.82565686e-02,\n",
       "       -7.49877334e-01, -1.15067780e+00, -1.00838470e+00,  4.14325237e-01,\n",
       "       -7.20164597e-01, -3.77528667e-01, -9.01204765e-01, -1.07904218e-01,\n",
       "       -1.22031689e+00,  8.16511154e-01,  3.20786029e-01,  1.13775289e+00,\n",
       "       -9.13258672e-01, -4.79477525e-01, -7.30429709e-01, -8.65261927e-02,\n",
       "        9.95239556e-01,  1.57138288e-01,  8.39215875e-01,  6.22237980e-01,\n",
       "       -1.13275349e+00, -5.28711736e-01, -2.89845347e-01, -4.60600883e-01,\n",
       "        1.69594929e-01, -2.58990247e-02, -1.27844656e+00, -8.34843338e-01,\n",
       "       -1.01607633e+00,  1.63796711e+00,  3.50888938e-01, -4.55730766e-01,\n",
       "       -1.05036128e+00, -7.33618796e-01, -2.05181792e-01,  7.13768005e-01,\n",
       "        1.32777166e+00, -3.03172648e-01, -1.02532876e+00, -1.24892471e-02,\n",
       "       -5.09156168e-01, -1.27814972e+00, -6.80480242e-01,  1.38715315e+00,\n",
       "        5.76388896e-01, -3.25670213e-01, -9.40724671e-01,  5.96016526e-01,\n",
       "        9.59603131e-01, -8.42308849e-02,  6.33952022e-01, -5.65711319e-01,\n",
       "       -3.09168845e-01, -5.63764274e-02,  4.95476454e-01, -5.58868289e-01,\n",
       "       -1.05667090e+00, -5.38700700e-01, -4.61196303e-01, -5.63907810e-02,\n",
       "       -2.61335880e-01,  5.07035553e-01,  2.45752648e-01, -9.29216206e-01,\n",
       "        6.34235963e-02, -9.05862689e-01, -9.21030283e-01, -2.08039403e-01,\n",
       "       -4.22980994e-01,  8.17707032e-02, -3.58070642e-01,  1.19240128e-01,\n",
       "        6.11074865e-01,  5.04264057e-01, -7.70166993e-01, -1.45178244e-01,\n",
       "       -6.90939844e-01,  5.37609607e-02,  1.82336718e-02, -5.42789876e-01,\n",
       "       -6.04177713e-01,  5.56309760e-01, -1.94954723e-01,  6.19041100e-02,\n",
       "       -1.32134295e+00,  2.39236087e-01, -5.52800715e-01, -7.90421426e-01,\n",
       "       -6.62692845e-01,  2.25408241e-01, -1.32773593e-01, -4.33864743e-02,\n",
       "       -1.49857298e-01, -4.94390577e-01,  7.98790574e-01,  4.64035720e-01,\n",
       "       -7.93842673e-02, -9.65574682e-01,  1.86411336e-01,  3.63335818e-01,\n",
       "        4.87561017e-01, -4.79982287e-01, -5.13984561e-01, -6.60640597e-01,\n",
       "       -1.86768755e-01, -1.31169170e-01, -1.05030680e+00,  1.21879987e-01,\n",
       "       -5.93196511e-01, -2.45579019e-01, -2.46078461e-01, -4.66173857e-01,\n",
       "       -2.92919189e-01, -5.30123353e-01, -1.08689499e+00, -1.10999811e+00,\n",
       "        3.67954314e-01, -2.46484041e-01, -3.17247421e-01,  6.09489717e-02,\n",
       "        4.32925016e-01, -3.31592381e-01,  1.99429661e-01, -1.98762608e+00,\n",
       "        7.71141291e-01,  4.43023145e-01,  2.38894578e-02, -8.20287943e-01,\n",
       "        1.79973654e-02, -6.87249541e-01, -9.62043268e-05,  5.47152817e-01,\n",
       "        1.11266422e+00, -1.70656908e+00,  1.69715673e-01,  5.85367642e-02,\n",
       "       -7.92864621e-01, -1.87547468e-02,  3.81752759e-01, -6.07759774e-01,\n",
       "        1.11612931e-01,  1.05326027e-01, -1.25749838e+00,  3.27887654e-01,\n",
       "       -2.29749694e-01,  8.23320866e-01, -1.08016181e+00, -5.63309491e-01,\n",
       "       -4.26551580e-01, -2.40896493e-01, -2.22689454e-02, -6.24960244e-01,\n",
       "       -1.88095406e-01,  7.37584293e-01, -2.81673074e-01, -4.29697931e-01,\n",
       "        4.43633556e-01, -1.45631421e+00,  4.04172391e-03, -4.83506545e-03,\n",
       "       -1.25409827e-01,  1.22258401e+00,  1.05275071e+00, -3.20683002e-01,\n",
       "        1.02828152e-01,  4.73120302e-01, -3.77351016e-01,  2.25068644e-01,\n",
       "        1.42232084e+00,  3.25837940e-01,  1.31565437e-01, -2.63674080e-01,\n",
       "        2.29451507e-01,  8.07437181e-01,  7.41296589e-01, -2.76582837e-01,\n",
       "        1.96787193e-01,  6.73493743e-01, -2.77378023e-01, -3.55189472e-01,\n",
       "       -5.17449021e-01,  3.01793277e-01, -5.00961065e-01,  2.78426975e-01,\n",
       "        6.35006964e-01, -1.28655934e+00,  2.17142209e-01,  3.06597084e-01,\n",
       "        2.75791228e-01,  2.76597321e-01, -4.65282947e-01, -1.43478900e-01,\n",
       "       -4.39350009e-02,  1.00008559e+00,  9.39768851e-02,  4.35057074e-01,\n",
       "       -7.19328225e-01,  2.65767872e-01, -2.76966065e-01, -2.47611746e-01,\n",
       "       -1.71222061e-01, -1.07314312e+00, -5.34604013e-01, -6.09512739e-02,\n",
       "       -4.24918920e-01, -8.03754807e-01, -1.44282326e-01, -9.78546619e-01,\n",
       "       -6.80662215e-01,  2.04208449e-01, -8.81896496e-01, -2.73737740e-02,\n",
       "       -3.51188034e-01, -1.10306406e+00,  2.85956919e-01,  6.96363211e-01,\n",
       "        8.10510039e-01,  4.44145709e-01, -2.32908458e-01, -4.32452053e-01,\n",
       "       -5.00772774e-01, -9.94915187e-01, -4.87599790e-01, -9.37501490e-01,\n",
       "        3.34061116e-01,  4.70940210e-02,  2.27377601e-02,  8.77050031e-03,\n",
       "       -8.89419436e-01,  2.75225937e-01, -5.09001985e-02, -1.55380380e+00,\n",
       "       -1.29923511e+00, -7.51635432e-01,  1.86699584e-01, -1.91035151e-01,\n",
       "        2.27905989e-01,  5.95318794e-01,  2.04636320e-01,  1.17440498e+00,\n",
       "       -1.86665252e-01, -1.16320002e+00,  2.02645510e-01, -7.08973110e-02,\n",
       "        1.37919307e+00,  8.84057283e-01,  9.71532285e-01,  7.53801823e-01,\n",
       "       -1.08601734e-01, -4.35833305e-01,  2.96727836e-01,  5.92022995e-03,\n",
       "       -5.04617728e-02,  5.32703936e-01, -9.51835334e-01,  4.87267315e-01,\n",
       "        1.20936942e+00,  7.45931745e-01, -8.01962316e-01,  5.83447099e-01,\n",
       "       -1.23434044e-01,  7.03398108e-01,  3.52035701e-01, -9.96506333e-01,\n",
       "        7.07834959e-01,  1.71936586e-01,  8.09275448e-01,  1.17166817e-01,\n",
       "       -1.97945580e-01, -7.10673869e-01,  2.30796769e-01,  2.70226181e-01,\n",
       "       -6.11527860e-01, -1.88225299e-01,  6.65418804e-01, -8.29068005e-01,\n",
       "       -4.66096014e-01, -4.85584825e-01,  2.92951345e-01,  8.94000173e-01,\n",
       "       -1.25238836e+00,  2.41845459e-01,  3.08941871e-01,  3.00334066e-01,\n",
       "        2.69056350e-01,  1.34375945e-01, -5.23596644e-01,  2.89863020e-01,\n",
       "       -2.72874415e-01,  6.36519551e-01,  9.83152092e-01, -6.45909727e-01,\n",
       "        2.72054940e-01,  2.17743486e-01,  9.89283696e-02,  1.70811340e-01,\n",
       "        8.56884897e-01, -1.28426597e-01,  2.18591228e-01, -1.97206363e-01,\n",
       "        1.73682451e-01, -3.93001698e-02, -8.17354202e-01, -1.42535627e+00,\n",
       "        1.00839710e+00, -6.11328781e-01, -6.01613462e-01,  6.76372111e-01,\n",
       "        6.40451491e-01,  2.17810310e-02,  4.38993305e-01,  2.21382543e-01,\n",
       "        7.79944062e-01,  4.27301884e-01,  1.58511773e-01, -7.07248628e-01,\n",
       "       -1.03839469e+00, -3.80401969e-01,  1.13629282e+00,  9.25953910e-02,\n",
       "        5.10896370e-03,  5.01264334e-01,  2.77275622e-01, -1.63714230e-01,\n",
       "        4.80374008e-01,  8.80238771e-01,  9.67941955e-02,  3.29094142e-01,\n",
       "        3.85249972e-01,  5.63021839e-01, -3.04092795e-01, -3.67866248e-01,\n",
       "        1.03719056e+00, -5.80788434e-01,  7.74248719e-01, -1.48647614e-02],\n",
       "      dtype=float32)"
      ]
     },
     "execution_count": 26,
     "metadata": {},
     "output_type": "execute_result"
    }
   ],
   "source": [
    "torch_flatten"
   ]
  },
  {
   "cell_type": "code",
   "execution_count": 27,
   "id": "f15772f4",
   "metadata": {},
   "outputs": [
    {
     "data": {
      "text/plain": [
       "array([-7.47435362e-01,  1.28319701e+00,  2.86253268e-01,  9.90206848e-01,\n",
       "        4.18511416e-01,  6.93405202e-01,  3.93564197e-01,  3.99817559e-01,\n",
       "       -4.40417110e-01,  4.92161089e-02,  1.54106860e-01, -9.42227838e-01,\n",
       "        6.69521307e-01,  5.27054405e-01,  1.87416408e+00,  8.46657665e-01,\n",
       "        2.50869324e-01,  2.73079746e-01, -8.36744966e-02, -6.45477723e-01,\n",
       "       -1.06390568e+00, -1.48029211e+00,  2.06012495e-02,  1.85969433e-01,\n",
       "       -3.51295142e-01,  2.85909229e-01,  3.57179552e-02,  3.68878266e-01,\n",
       "       -5.24603078e-01, -1.27037115e+00, -1.15260535e+00,  5.79615234e-02,\n",
       "       -9.56859429e-01, -1.60745550e+00, -6.18579179e-02,  2.41684113e-01,\n",
       "       -1.24229970e+00, -5.89671105e-02, -1.07209190e-01, -5.63483455e-01,\n",
       "       -2.24590809e-01, -7.64131532e-01, -2.31329821e-01,  2.82435635e-01,\n",
       "       -2.46507314e-01,  9.48250580e-01, -1.40350905e-02,  4.64826914e-01,\n",
       "       -7.28797144e-01, -1.06858463e+00, -4.26149907e-01, -7.06250583e-01,\n",
       "       -8.76295397e-01, -4.97114515e-01, -4.86313192e-01,  9.65419520e-01,\n",
       "        5.42498141e-01, -8.32581835e-02,  5.47771141e-01,  5.28537943e-01,\n",
       "       -1.60144524e-01, -6.84373490e-03, -8.00569731e-01, -1.32899877e+00,\n",
       "        1.21957999e-01, -1.08929347e+00,  3.62677439e-01,  4.38020584e-01,\n",
       "        8.02069134e-02, -1.51730504e-01, -5.18759756e-01, -4.52259964e-02,\n",
       "        4.58844867e-01, -1.19128719e-01,  8.17961494e-01, -7.18171717e-01,\n",
       "        3.64893960e-01, -5.35016466e-01,  1.02155409e-01, -4.46700765e-01,\n",
       "        2.75016126e-01,  7.28936866e-01, -7.70447981e-01, -6.10876628e-01,\n",
       "        8.33084990e-01,  1.35036797e+00, -1.67746149e-01, -5.28054103e-02,\n",
       "       -6.05627300e-02, -2.69159072e-01, -3.12697101e-02,  9.19703081e-01,\n",
       "        2.22053943e-01,  1.62255499e-01, -5.19708087e-02,  6.02755926e-01,\n",
       "        1.13096443e+00, -5.24709459e-01,  1.33502275e+00,  7.84277416e-01,\n",
       "       -4.68933047e-01, -3.73924607e-04,  6.07445209e-01,  4.55102752e-01,\n",
       "       -1.59095060e-01,  6.44363340e-01,  6.54729189e-01,  6.66773142e-01,\n",
       "        1.50659841e+00,  9.23899168e-01, -4.62787090e-01,  5.57445213e-01,\n",
       "       -2.64011287e-02,  2.22574008e-01, -9.36725907e-01, -3.73002713e-02,\n",
       "        3.23833677e-01,  8.71850515e-01, -4.42363883e-01,  1.02476023e-01,\n",
       "       -8.59886089e-03,  8.15165523e-01,  1.83565951e-01,  9.99042128e-01,\n",
       "        9.92745290e-01, -4.10416935e-01,  1.45837758e-01,  5.01699604e-01,\n",
       "       -5.45632981e-01,  1.29458803e-01, -2.63137624e-01,  2.99790780e-01,\n",
       "        8.20658366e-01, -1.45012617e-01,  3.93447179e-01,  1.13317161e+00,\n",
       "        1.79484302e+00,  3.56716135e-02, -3.43412864e-01,  4.72845555e-01,\n",
       "        4.91573181e-01, -1.77294119e-01, -3.29006331e-01, -4.04367882e-01,\n",
       "        2.90570392e-01, -6.04574542e-01, -3.95069603e-01,  5.10746665e-02,\n",
       "        8.85355780e-01, -3.85934906e-01, -3.11208738e-01,  5.52545310e-01,\n",
       "       -2.24052408e-01,  3.01769025e-01, -1.33105917e-01,  3.48768676e-01,\n",
       "        3.68040017e-01,  4.56013193e-01,  1.20824720e+00,  1.27067121e-02,\n",
       "        3.58759516e-01,  3.67317346e-01, -8.41090422e-01, -5.39946055e-01,\n",
       "       -6.57171908e-02, -8.25514842e-02, -5.42679807e-01,  9.11694170e-03,\n",
       "        3.76257269e-01,  3.06314405e-01,  4.96560978e-01,  3.29130301e-01,\n",
       "        2.82576541e-01,  6.56133296e-01,  4.95029889e-01,  2.15012466e-01,\n",
       "        4.66024234e-03, -1.40277137e-01,  2.89798312e-01, -7.56091000e-01,\n",
       "       -8.90396124e-01, -4.65397472e-02, -5.12006592e-01, -6.02692783e-02,\n",
       "        5.31425226e-01,  1.36178111e-01,  4.44562429e-01, -8.57885557e-01,\n",
       "        6.73852664e-01,  6.38907187e-01, -4.26590053e-01,  2.12246933e-01,\n",
       "        7.83588709e-01, -5.10763272e-01, -2.14547418e-01, -1.10475099e+00,\n",
       "        4.65807251e-01, -2.81748871e-01,  1.89491216e-01, -3.13267990e-01,\n",
       "        5.34550786e-01,  7.72559525e-01,  1.05331071e-01,  3.45837761e-01,\n",
       "        1.44678228e-01,  8.32072876e-02, -5.48714305e-02,  7.41737971e-01,\n",
       "        2.38600353e-02, -7.54728616e-01, -2.75484745e-01, -5.89052407e-01,\n",
       "       -9.14935858e-01, -2.00886140e-01, -3.33606468e-02,  1.38725656e+00,\n",
       "       -5.25808907e-01, -1.59411320e+00,  8.12790306e-01, -1.39022844e+00,\n",
       "       -8.70840176e-02,  5.45724641e-01,  3.99281594e-01, -3.89258784e-04,\n",
       "       -6.44985524e-01, -1.01534233e+00, -2.26056874e-01, -2.49705270e-01,\n",
       "        7.99379735e-01, -1.00305368e+00, -3.06083174e-01, -1.47566244e-01,\n",
       "        2.18341538e-01,  4.01353211e-02,  5.77457029e-01,  1.74142396e-01,\n",
       "        5.70589606e-01,  2.20147903e-01,  4.22466004e-01, -3.06305581e-01,\n",
       "        1.17186360e+00, -3.96584639e-01,  9.54901282e-01, -7.17518396e-01,\n",
       "       -3.51553114e-01, -4.72495624e-01,  8.40588485e-01, -4.13603154e-01,\n",
       "        4.71360397e-01,  6.44698076e-01, -2.97534939e-02,  1.56400165e-01,\n",
       "       -8.69446032e-02,  3.56716891e-01,  8.33109448e-01,  4.56351874e-01,\n",
       "        4.45891491e-01, -1.22531816e+00,  7.76605228e-01,  4.33401877e-01,\n",
       "        1.33784601e-01, -3.31049212e-01,  3.65739444e-01,  2.88357486e-01,\n",
       "       -4.52097998e-01,  2.43222867e-01,  9.14705893e-01,  3.87506844e-01,\n",
       "        5.44951900e-01,  3.52826764e-01,  3.08686949e-02,  3.08139472e-01,\n",
       "        3.39793239e-01,  7.15524522e-01, -8.70649988e-01, -1.69954861e-01,\n",
       "        1.64808745e-01, -4.97037098e-01,  1.20492158e+00, -3.35932019e-01,\n",
       "       -4.72427235e-02,  4.08866310e-01,  1.11236452e+00, -2.99889389e-01,\n",
       "       -3.28838020e-01, -3.42278746e-01, -7.96897842e-02, -7.22248421e-01,\n",
       "        4.50762748e-02,  4.38953744e-01,  2.26592054e-01, -6.93091543e-02,\n",
       "       -1.04212712e+00, -9.83744058e-01, -3.74752581e-01,  4.12393304e-01,\n",
       "       -7.90453926e-01,  1.62872833e-01, -5.99379178e-02,  5.19516067e-01,\n",
       "        1.14285231e+00, -9.47920306e-01, -5.52384507e-01, -9.63223349e-01,\n",
       "       -6.96795693e-01, -6.38578463e-01,  1.12875335e-01, -7.78612835e-01,\n",
       "        4.11170709e-01, -4.93886752e-01, -2.69476910e-01, -7.96484682e-01,\n",
       "       -6.10041660e-01, -5.95474461e-01, -1.61560051e+00, -9.02758533e-01,\n",
       "       -1.07017837e+00, -3.29555303e-01,  4.35431433e-01,  6.71114184e-02,\n",
       "       -2.38669107e-01,  5.46420188e-01,  3.87809126e-02,  1.26400086e+00,\n",
       "       -3.75185749e-01, -4.15869570e-01, -4.65096267e-02, -8.70789838e-01,\n",
       "        2.12925401e-01, -7.87304599e-01, -9.67709636e-02,  2.11155428e-02,\n",
       "       -2.74432969e-01, -1.03836475e+00, -3.46175971e-01,  7.91840838e-02,\n",
       "       -3.18079767e-01,  4.84351517e-01, -1.60351654e-01,  1.90808738e-01,\n",
       "       -2.01740363e-01, -7.41489106e-01, -7.03719271e-01, -1.19820443e-01,\n",
       "       -4.69256092e-01,  2.37510449e-01, -1.25283156e-01, -2.23287277e-01,\n",
       "        8.70515580e-01,  6.24774722e-01,  7.88506405e-01, -1.16691148e-02,\n",
       "       -1.03165852e+00,  3.39820358e-01,  5.73416310e-01, -3.76306006e-01,\n",
       "       -3.23544824e-03, -5.61980968e-01,  4.11777114e-01,  3.43426762e-01,\n",
       "        6.75037257e-01, -6.38397211e-01,  6.36719218e-01,  4.46268295e-01,\n",
       "        7.39806686e-01,  2.27935623e-01,  2.23999862e-01, -2.13145368e-01,\n",
       "        3.60896627e-01,  6.08377670e-01, -1.21164784e+00, -6.98376121e-01,\n",
       "        4.19471860e-01,  7.96624127e-01, -4.21951108e-02,  1.06756868e+00,\n",
       "        9.34850579e-01, -2.80665972e-01,  7.05221399e-01,  1.11937657e+00,\n",
       "        4.96025890e-01,  5.94269851e-01, -6.69506555e-01, -5.28379627e-01,\n",
       "       -2.37681648e-01, -1.79226279e-01,  1.39699320e+00, -3.37169091e-01,\n",
       "        1.06860245e+00,  2.31268241e-01,  7.67731150e-01,  4.22381849e-01,\n",
       "        2.75704989e-01,  3.85640189e-01,  1.58845827e-01,  8.17620599e-03,\n",
       "        5.51188035e-01, -3.00109711e-01,  7.06686885e-01,  8.55187451e-01,\n",
       "        8.82191023e-04,  5.94388176e-01,  8.00783983e-01, -6.98807607e-01,\n",
       "        3.95657645e-02, -1.71980163e-01, -6.62023799e-01,  8.54571441e-02,\n",
       "       -1.00636650e-01,  1.99472934e-01, -2.46592859e-01, -1.50640381e-01,\n",
       "        2.31220552e-01, -8.97274715e-01, -6.34523637e-01,  5.89478138e-02,\n",
       "        3.35057881e-01, -1.13549801e+00, -6.43903532e-01,  8.37741771e-01,\n",
       "        4.29910285e-01, -2.41576997e-01,  2.07803668e-01, -5.93820447e-01,\n",
       "       -9.06714120e-02, -9.58810526e-01, -7.16661203e-01,  8.35609310e-02,\n",
       "        8.76013547e-01,  5.44029654e-01,  5.14468467e-01, -1.48078379e-02,\n",
       "       -4.21502158e-01,  9.90786620e-01,  5.69805367e-01, -4.23568869e-01,\n",
       "       -4.04576798e-02,  6.48491285e-01,  7.66601696e-01, -1.65501012e-01,\n",
       "       -1.56057099e+00, -5.94363715e-01,  7.24366730e-01, -6.29839720e-01,\n",
       "       -9.25719581e-02, -3.65835729e-01,  9.93382762e-01, -7.89451773e-01,\n",
       "       -1.21859111e+00, -1.71514847e-01,  6.73620395e-02,  3.84524909e-01,\n",
       "       -6.46473378e-01,  1.64740831e-01, -4.41685493e-01, -6.89616937e-01,\n",
       "        2.87744330e-01, -1.80061640e-01,  5.98716355e-01, -3.29733480e-01,\n",
       "       -1.68878224e+00, -1.10675585e+00, -6.53223760e-01,  3.68286169e-01,\n",
       "        9.76725834e-01,  1.91334349e-01,  4.45349677e-01,  3.67720465e-02,\n",
       "       -3.89240210e-01, -1.64919198e-03, -3.46446130e-01, -4.57611021e-01,\n",
       "       -3.37690585e-01,  5.57358829e-01,  1.52037451e+00,  7.07423022e-01,\n",
       "       -4.45288335e-01,  5.07280589e-01, -1.55458875e+00,  2.21610534e-01,\n",
       "        3.71329504e-01, -1.85746443e-01, -5.38063401e-02,  6.69040897e-01,\n",
       "        2.87533093e-01, -3.62324208e-01, -3.14737968e-01,  2.24748281e-01,\n",
       "        8.79647717e-02, -9.14121441e-01, -4.68683434e-01, -7.45144358e-01,\n",
       "       -1.56553801e-01,  1.03150078e+00, -6.34483455e-02,  6.34040851e-01,\n",
       "       -6.35091094e-01, -2.01276223e-01, -4.05099077e-01,  1.03935196e-03,\n",
       "        1.23897477e-01,  3.34775681e-01,  8.86735816e-02,  2.51292590e-01,\n",
       "        4.82699656e-01,  1.35097540e-01,  4.35171108e-01,  4.90188761e-01,\n",
       "       -8.73285966e-01, -4.90679384e-02, -6.25099176e-01, -1.76469774e-01,\n",
       "        2.07372072e-01,  7.82232224e-01,  1.09793994e+00, -4.49967892e-01,\n",
       "       -5.34405972e-01,  1.27202498e+00, -3.19560558e-01,  1.41826536e+00,\n",
       "       -1.52526128e-01,  4.23582211e-01, -1.08461808e+00, -7.29343411e-01,\n",
       "       -9.64488695e-01,  2.46943057e-01,  4.04790337e-01,  4.82565945e-02,\n",
       "       -7.49877201e-01, -1.15067767e+00, -1.00838466e+00,  4.14325135e-01,\n",
       "       -7.20164693e-01, -3.77528825e-01, -9.01204711e-01, -1.07904155e-01,\n",
       "       -1.22031680e+00,  8.16511126e-01,  3.20786056e-01,  1.13775261e+00,\n",
       "       -9.13259242e-01, -4.79477472e-01, -7.30429757e-01, -8.65263198e-02,\n",
       "        9.95239431e-01,  1.57138312e-01,  8.39215778e-01,  6.22237880e-01,\n",
       "       -1.13275356e+00, -5.28711811e-01, -2.89845418e-01, -4.60600813e-01,\n",
       "        1.69594880e-01, -2.58990037e-02, -1.27844653e+00, -8.34843326e-01,\n",
       "       -1.01607645e+00,  1.63796734e+00,  3.50888800e-01, -4.55730782e-01,\n",
       "       -1.05036147e+00, -7.33618762e-01, -2.05181778e-01,  7.13767960e-01,\n",
       "        1.32777154e+00, -3.03172652e-01, -1.02532906e+00, -1.24892487e-02,\n",
       "       -5.09156190e-01, -1.27814986e+00, -6.80480147e-01,  1.38715320e+00,\n",
       "        5.76388944e-01, -3.25670054e-01, -9.40724662e-01,  5.96016647e-01,\n",
       "        9.59603007e-01, -8.42308356e-02,  6.33951962e-01, -5.65711368e-01,\n",
       "       -3.09168903e-01, -5.63764589e-02,  4.95476500e-01, -5.58868029e-01,\n",
       "       -1.05667097e+00, -5.38700768e-01, -4.61196298e-01, -5.63907069e-02,\n",
       "       -2.61335878e-01,  5.07035568e-01,  2.45752575e-01, -9.29216063e-01,\n",
       "        6.34236460e-02, -9.05862806e-01, -9.21030255e-01, -2.08039365e-01,\n",
       "       -4.22981056e-01,  8.17707184e-02, -3.58070686e-01,  1.19240071e-01,\n",
       "        6.11074850e-01,  5.04263964e-01, -7.70166976e-01, -1.45178283e-01,\n",
       "       -6.90939862e-01,  5.37609742e-02,  1.82335386e-02, -5.42790018e-01,\n",
       "       -6.04177631e-01,  5.56309770e-01, -1.94954820e-01,  6.19040936e-02,\n",
       "       -1.32134288e+00,  2.39236092e-01, -5.52800658e-01, -7.90421183e-01,\n",
       "       -6.62692852e-01,  2.25408291e-01, -1.32773627e-01, -4.33865463e-02,\n",
       "       -1.49857330e-01, -4.94390609e-01,  7.98790442e-01,  4.64035636e-01,\n",
       "       -7.93842015e-02, -9.65574765e-01,  1.86411345e-01,  3.63335786e-01,\n",
       "        4.87561004e-01, -4.79982283e-01, -5.13984678e-01, -6.60640573e-01,\n",
       "       -1.86768686e-01, -1.31169154e-01, -1.05030689e+00,  1.21879938e-01,\n",
       "       -5.93196445e-01, -2.45579009e-01, -2.46078541e-01, -4.66173879e-01,\n",
       "       -2.92919091e-01, -5.30123337e-01, -1.08689511e+00, -1.10999796e+00,\n",
       "        3.67954280e-01, -2.46483970e-01, -3.17247451e-01,  6.09490428e-02,\n",
       "        4.32925088e-01, -3.31592436e-01,  1.99429627e-01, -1.98762592e+00,\n",
       "        7.71141334e-01,  4.43023184e-01,  2.38896225e-02, -8.20287800e-01,\n",
       "        1.79973770e-02, -6.87249437e-01, -9.61913544e-05,  5.47152594e-01,\n",
       "        1.11266437e+00, -1.70656901e+00,  1.69715693e-01,  5.85368685e-02,\n",
       "       -7.92864470e-01, -1.87547746e-02,  3.81752726e-01, -6.07759708e-01,\n",
       "        1.11612869e-01,  1.05326052e-01, -1.25749831e+00,  3.27887645e-01,\n",
       "       -2.29749718e-01,  8.23320863e-01, -1.08016180e+00, -5.63309656e-01,\n",
       "       -4.26551574e-01, -2.40896481e-01, -2.22689764e-02, -6.24960317e-01,\n",
       "       -1.88095393e-01,  7.37584246e-01, -2.81673093e-01, -4.29697905e-01,\n",
       "        4.43633477e-01, -1.45631429e+00,  4.04173196e-03, -4.83501942e-03,\n",
       "       -1.25409717e-01,  1.22258385e+00,  1.05275099e+00, -3.20682995e-01,\n",
       "        1.02828149e-01,  4.73120281e-01, -3.77351025e-01,  2.25068676e-01,\n",
       "        1.42232086e+00,  3.25837959e-01,  1.31565487e-01, -2.63674035e-01,\n",
       "        2.29451508e-01,  8.07437163e-01,  7.41296466e-01, -2.76583077e-01,\n",
       "        1.96787149e-01,  6.73493729e-01, -2.77378068e-01, -3.55189445e-01,\n",
       "       -5.17449043e-01,  3.01793298e-01, -5.00961187e-01,  2.78426912e-01,\n",
       "        6.35007019e-01, -1.28655912e+00,  2.17142206e-01,  3.06597118e-01,\n",
       "        2.75791286e-01,  2.76597337e-01, -4.65282835e-01, -1.43478862e-01,\n",
       "       -4.39350154e-02,  1.00008555e+00,  9.39769073e-02,  4.35057089e-01,\n",
       "       -7.19328264e-01,  2.65767829e-01, -2.76966092e-01, -2.47611741e-01,\n",
       "       -1.71222016e-01, -1.07314307e+00, -5.34603866e-01, -6.09512679e-02,\n",
       "       -4.24918966e-01, -8.03754657e-01, -1.44282315e-01, -9.78546777e-01,\n",
       "       -6.80661907e-01,  2.04208419e-01, -8.81896371e-01, -2.73737530e-02,\n",
       "       -3.51188015e-01, -1.10306380e+00,  2.85956852e-01,  6.96363491e-01,\n",
       "        8.10509979e-01,  4.44145587e-01, -2.32908499e-01, -4.32452011e-01,\n",
       "       -5.00772746e-01, -9.94915037e-01, -4.87600089e-01, -9.37501576e-01,\n",
       "        3.34061110e-01,  4.70939815e-02,  2.27376930e-02,  8.77049209e-03,\n",
       "       -8.89419458e-01,  2.75225952e-01, -5.09001549e-02, -1.55380372e+00,\n",
       "       -1.29923488e+00, -7.51635429e-01,  1.86699551e-01, -1.91035161e-01,\n",
       "        2.27905995e-01,  5.95318780e-01,  2.04636378e-01,  1.17440481e+00,\n",
       "       -1.86665227e-01, -1.16320000e+00,  2.02645531e-01, -7.08972570e-02,\n",
       "        1.37919319e+00,  8.84057212e-01,  9.71532109e-01,  7.53801934e-01,\n",
       "       -1.08601870e-01, -4.35833301e-01,  2.96727739e-01,  5.92016299e-03,\n",
       "       -5.04617454e-02,  5.32703959e-01, -9.51835507e-01,  4.87267350e-01,\n",
       "        1.20936933e+00,  7.45931749e-01, -8.01962368e-01,  5.83447071e-01,\n",
       "       -1.23434078e-01,  7.03398204e-01,  3.52035627e-01, -9.96506430e-01,\n",
       "        7.07834838e-01,  1.71936546e-01,  8.09275332e-01,  1.17166819e-01,\n",
       "       -1.97945565e-01, -7.10674034e-01,  2.30796794e-01,  2.70226082e-01,\n",
       "       -6.11527626e-01, -1.88225325e-01,  6.65418852e-01, -8.29067978e-01,\n",
       "       -4.66096000e-01, -4.85584799e-01,  2.92951303e-01,  8.94000119e-01,\n",
       "       -1.25238833e+00,  2.41845429e-01,  3.08941902e-01,  3.00334064e-01,\n",
       "        2.69056363e-01,  1.34375939e-01, -5.23596682e-01,  2.89863043e-01,\n",
       "       -2.72874442e-01,  6.36519653e-01,  9.83152121e-01, -6.45909644e-01,\n",
       "        2.72055054e-01,  2.17743595e-01,  9.89283796e-02,  1.70811366e-01,\n",
       "        8.56885010e-01, -1.28426673e-01,  2.18591204e-01, -1.97206450e-01,\n",
       "        1.73682506e-01, -3.93001787e-02, -8.17354286e-01, -1.42535617e+00,\n",
       "        1.00839707e+00, -6.11328711e-01, -6.01613650e-01,  6.76372090e-01,\n",
       "        6.40451560e-01,  2.17809441e-02,  4.38993254e-01,  2.21382535e-01,\n",
       "        7.79944033e-01,  4.27301825e-01,  1.58511948e-01, -7.07248631e-01,\n",
       "       -1.03839441e+00, -3.80401948e-01,  1.13629295e+00,  9.25953528e-02,\n",
       "        5.10895814e-03,  5.01264278e-01,  2.77275628e-01, -1.63714201e-01,\n",
       "        4.80374068e-01,  8.80238780e-01,  9.67941608e-02,  3.29094060e-01,\n",
       "        3.85249897e-01,  5.63021590e-01, -3.04092745e-01, -3.67866277e-01,\n",
       "        1.03719053e+00, -5.80788372e-01,  7.74248677e-01, -1.48647502e-02])"
      ]
     },
     "execution_count": 27,
     "metadata": {},
     "output_type": "execute_result"
    }
   ],
   "source": [
    "my_flatten"
   ]
  },
  {
   "cell_type": "markdown",
   "id": "86b77f5c",
   "metadata": {},
   "source": [
    "***"
   ]
  },
  {
   "cell_type": "markdown",
   "id": "7662951a",
   "metadata": {},
   "source": [
    "# 1.5 ConvTranspose2d"
   ]
  },
  {
   "cell_type": "markdown",
   "id": "2834a3e2",
   "metadata": {},
   "source": [
    "> torch output"
   ]
  },
  {
   "cell_type": "code",
   "execution_count": 28,
   "id": "e7796f45",
   "metadata": {},
   "outputs": [
    {
     "name": "stdout",
     "output_type": "stream",
     "text": [
      "torch.Size([1, 4, 34, 34])\n",
      "torch.Size([3, 4, 3, 3])\n",
      "torch.Size([4])\n"
     ]
    }
   ],
   "source": [
    "m=nn.ConvTranspose2d(in_channels=3, out_channels=4,kernel_size=3, stride=1, padding=0, output_padding=0,groups=1, bias=True, dilation=1, padding_mode='zeros')\n",
    "torch_out=m(input)\n",
    "torch_weight = m.weight.data\n",
    "torch_bias = m.bias.data\n",
    "\n",
    "print(torch_out.size())\n",
    "print(torch_weight.size())\n",
    "print(torch_bias.size())"
   ]
  },
  {
   "cell_type": "code",
   "execution_count": 29,
   "id": "1783aea7",
   "metadata": {},
   "outputs": [],
   "source": [
    "class myConvTranspose2d(nn.Module):\n",
    "    def __init__(self,in_channels=3, out_channels=4,kernel_size=3, stride=1, padding=0, output_padding=0,groups=1, bias=True, dilation=1, padding_mode='zeros'):\n",
    "        super(myConvTranspose2d,self).__init__()\n",
    "        self.kernel_size=kernel_size\n",
    "        self.stride=stride\n",
    "        self.padding=padding\n",
    "        \n",
    "        self.dilation = dilation\n",
    "                 \n",
    "        self.out_channels=out_channels   \n",
    "        self.output_padding=output_padding\n",
    "        \n",
    "    def forward(self,input):\n",
    "        kernel_width=self.kernel_size\n",
    "        kernel_height=self.kernel_size\n",
    "                   \n",
    "        padding_width = self.padding\n",
    "        padding_height = self.padding\n",
    "        \n",
    "        stride_width = self.stride\n",
    "        stride_height = self.stride\n",
    "        \n",
    "        \n",
    "        x_batch=input.shape[0]\n",
    "        x_channel=input.shape[1]\n",
    "        x_height=input.shape[2]\n",
    "        x_width=input.shape[3]\n",
    "        \n",
    "       \n",
    "        y_height = (x_height-1)*stride_height -2*padding_width + self.dilation*(kernel_height-1)+self.output_padding+1\n",
    "        y_width  = (x_width-1)*stride_width -2*padding_height + self.dilation*(kernel_width-1)+self.output_padding+1\n",
    "        #print(\"y_weight=%d,y_height=%d\"%(y_width,y_height))\n",
    "    \n",
    "    \n",
    "        y=np.zeros((x_batch, self.out_channels,y_height,y_width))\n",
    "        #print(y.shape)         \n",
    "        \n",
    "       \n",
    "        #print(y.shape)\n",
    "        #print(weights.shape)\n",
    "\n",
    "        for i in range(x_batch):\n",
    "            for c in range(self.out_channels):\n",
    "                 for j in range(x_channel):\n",
    "                        for k in range(x_height):\n",
    "                            for l in range(x_width):\n",
    "                                y[i, c, k:k+kernel_height, l:l+kernel_width] +=input[i, j, k, l] * torch_weight[j][c].numpy()       \n",
    "        for i in range(self.out_channels):\n",
    "            y[0][i] += torch_bias[i].numpy()\n",
    "        \n",
    "        return(y)"
   ]
  },
  {
   "cell_type": "markdown",
   "id": "67dd67d3",
   "metadata": {},
   "source": [
    "> my output"
   ]
  },
  {
   "cell_type": "code",
   "execution_count": 30,
   "id": "8227ac13",
   "metadata": {},
   "outputs": [],
   "source": [
    "impl=myConvTranspose2d()\n",
    "my_out=impl(input.numpy())"
   ]
  },
  {
   "cell_type": "markdown",
   "id": "f539da4f",
   "metadata": {},
   "source": [
    "> Check the difference"
   ]
  },
  {
   "cell_type": "code",
   "execution_count": 31,
   "id": "6499dfb1",
   "metadata": {},
   "outputs": [
    {
     "data": {
      "text/plain": [
       "1.2756529552626814e-15"
      ]
     },
     "execution_count": 31,
     "metadata": {},
     "output_type": "execute_result"
    }
   ],
   "source": [
    "torch_flatten=torch_out.detach().numpy().flatten()\n",
    "my_flatten=my_out.flatten()\n",
    "mean_squared_error(torch_flatten,my_flatten)"
   ]
  },
  {
   "cell_type": "markdown",
   "id": "e1dbcbaf",
   "metadata": {},
   "source": [
    "***"
   ]
  },
  {
   "cell_type": "markdown",
   "id": "ab691b25",
   "metadata": {},
   "source": [
    "# 2.1 flatten"
   ]
  },
  {
   "cell_type": "markdown",
   "id": "92cfb29b",
   "metadata": {},
   "source": [
    "> torch output"
   ]
  },
  {
   "cell_type": "code",
   "execution_count": 32,
   "id": "2afad191",
   "metadata": {},
   "outputs": [],
   "source": [
    "torch_out=torch.flatten(input, start_dim=0, end_dim=-1)"
   ]
  },
  {
   "cell_type": "markdown",
   "id": "3d73cc2c",
   "metadata": {},
   "source": [
    "> my output"
   ]
  },
  {
   "cell_type": "code",
   "execution_count": 33,
   "id": "7b978baa",
   "metadata": {},
   "outputs": [],
   "source": [
    "def myflatten(input,start_dim=0, end_dim=-1):\n",
    "    shape=input.shape\n",
    "    reshape=1\n",
    "    for i in shape:\n",
    "        reshape*=i\n",
    "    return input.reshape(reshape)   \n",
    "\n",
    "my_out=myflatten(input.numpy())"
   ]
  },
  {
   "cell_type": "markdown",
   "id": "a1af3aae",
   "metadata": {},
   "source": [
    "> Check the difference"
   ]
  },
  {
   "cell_type": "code",
   "execution_count": 34,
   "id": "2294fd5b",
   "metadata": {},
   "outputs": [
    {
     "data": {
      "text/plain": [
       "0.0"
      ]
     },
     "execution_count": 34,
     "metadata": {},
     "output_type": "execute_result"
    }
   ],
   "source": [
    "mean_squared_error(torch_out.numpy(),my_out)"
   ]
  },
  {
   "cell_type": "markdown",
   "id": "468662d2",
   "metadata": {},
   "source": [
    "# 2.2 sigmoid"
   ]
  },
  {
   "cell_type": "markdown",
   "id": "97eb974c",
   "metadata": {},
   "source": [
    "> torch output"
   ]
  },
  {
   "cell_type": "code",
   "execution_count": 35,
   "id": "4a7dcfb1",
   "metadata": {},
   "outputs": [],
   "source": [
    "torch_out=torch.sigmoid(input)"
   ]
  },
  {
   "cell_type": "markdown",
   "id": "9b0fb952",
   "metadata": {},
   "source": [
    "> my output"
   ]
  },
  {
   "cell_type": "code",
   "execution_count": 36,
   "id": "ad491dba",
   "metadata": {},
   "outputs": [
    {
     "name": "stdout",
     "output_type": "stream",
     "text": [
      "<class 'numpy.ndarray'>\n"
     ]
    }
   ],
   "source": [
    "def mysigmoid(input):\n",
    "    print(type(input))\n",
    "    return 1 / (1 + np.exp(-input))\n",
    "  \n",
    "my_out = mysigmoid(input.numpy())"
   ]
  },
  {
   "cell_type": "markdown",
   "id": "fc7d969c",
   "metadata": {},
   "source": [
    "> Check the difference"
   ]
  },
  {
   "cell_type": "code",
   "execution_count": 37,
   "id": "9775bb34",
   "metadata": {},
   "outputs": [
    {
     "data": {
      "text/plain": [
       "torch.Size([1, 3, 32, 32])"
      ]
     },
     "execution_count": 37,
     "metadata": {},
     "output_type": "execute_result"
    }
   ],
   "source": [
    "torch_out.shape"
   ]
  },
  {
   "cell_type": "code",
   "execution_count": 38,
   "id": "f5d4c0f0",
   "metadata": {},
   "outputs": [
    {
     "data": {
      "text/plain": [
       "3.525193e-16"
      ]
     },
     "execution_count": 38,
     "metadata": {},
     "output_type": "execute_result"
    }
   ],
   "source": [
    "mean_squared_error(list(torch_out.numpy().reshape(-1)),list(my_out.reshape(-1)))"
   ]
  },
  {
   "cell_type": "markdown",
   "id": "c0629cfd",
   "metadata": {},
   "source": [
    "***"
   ]
  },
  {
   "cell_type": "markdown",
   "id": "570bfcbc",
   "metadata": {},
   "source": [
    "# 2.3 roi_pool"
   ]
  },
  {
   "cell_type": "markdown",
   "id": "0027cd17",
   "metadata": {},
   "source": [
    "> torch output"
   ]
  },
  {
   "cell_type": "code",
   "execution_count": 39,
   "id": "abf26d51",
   "metadata": {},
   "outputs": [
    {
     "name": "stdout",
     "output_type": "stream",
     "text": [
      "tensor([[[[ 0.0071, -0.3352],\n",
      "          [-2.1432, -1.7375]],\n",
      "\n",
      "         [[ 1.5856,  1.3147],\n",
      "          [-1.8290,  0.2250]],\n",
      "\n",
      "         [[-1.0791, -1.7317],\n",
      "          [-0.2466,  0.2755]]]])\n"
     ]
    }
   ],
   "source": [
    "rois = torch.Tensor([[0, 0, 0, 1, 1]])\n",
    "\n",
    "torch_out = torchvision.ops.roi_pool(input, rois, (2, 2))\n",
    "print(torch_out)"
   ]
  },
  {
   "cell_type": "markdown",
   "id": "67f0da0d",
   "metadata": {},
   "source": [
    "> my output"
   ]
  },
  {
   "cell_type": "code",
   "execution_count": 40,
   "id": "59c857b0",
   "metadata": {},
   "outputs": [],
   "source": [
    "def my_roi_pool(input, rois, output_size):\n",
    "    \n",
    "    top_left_h = int(rois[0][1])\n",
    "    top_left_w = int(rois[0][2])\n",
    "    bottom_right_h = int(rois[0][3])\n",
    "    bottom_right_w = int(rois[0][4])\n",
    "    \n",
    "    box_width =  bottom_right_w - top_left_w + 1\n",
    "    box_height = bottom_right_h - top_left_h + 1\n",
    "\n",
    "    bin_width = box_width / output_size[0]\n",
    "    bin_height = box_height / output_size[1]\n",
    "    \n",
    "    result = []\n",
    "    for i in range(input.shape[1]): # channel\n",
    "      lst = []\n",
    "      for j in range(output_size[0]):\n",
    "        r = []\n",
    "        for k in range(output_size[1]):\n",
    "          bar = input[..., int(top_left_h + bin_height * j):math.ceil(top_left_h + bin_height * (j + 1)), \n",
    "                   int(top_left_w + bin_width * k):math.ceil(top_left_w + bin_width * (k + 1))][0][i]\n",
    "          r.append(bar.max())\n",
    "        lst.append(r)\n",
    "      result.append(lst)\n",
    "\n",
    "    return np.array(result)\n",
    "  \n",
    "my_out = my_roi_pool(input.numpy(), rois, (2, 2))"
   ]
  },
  {
   "cell_type": "markdown",
   "id": "8364ca21",
   "metadata": {},
   "source": [
    "> Check the difference"
   ]
  },
  {
   "cell_type": "code",
   "execution_count": 41,
   "id": "584c4ace",
   "metadata": {},
   "outputs": [
    {
     "data": {
      "text/plain": [
       "0.0"
      ]
     },
     "execution_count": 41,
     "metadata": {},
     "output_type": "execute_result"
    }
   ],
   "source": [
    "mean_squared_error(torch_out.squeeze(0).numpy().reshape(-1),my_out.reshape(-1))"
   ]
  },
  {
   "cell_type": "markdown",
   "id": "85e44d78",
   "metadata": {},
   "source": [
    "***"
   ]
  },
  {
   "cell_type": "markdown",
   "id": "6f600a37",
   "metadata": {},
   "source": [
    "# 2.4 batch_norm"
   ]
  },
  {
   "cell_type": "markdown",
   "id": "f3b98b74",
   "metadata": {},
   "source": [
    "> torch output"
   ]
  },
  {
   "cell_type": "code",
   "execution_count": 42,
   "id": "c8ca6220",
   "metadata": {},
   "outputs": [],
   "source": [
    "channel = input.shape[1]\n",
    "mean = torch.Tensor(channel, )\n",
    "var = torch.Tensor(channel, )\n",
    "for i in range(channel):\n",
    "  mean[i] = input[0][i].mean()\n",
    "  var[i] = input[0][i].var()\n",
    "\n",
    "torch_out = torch.nn.functional.batch_norm(input, mean, var, weight=None, bias=None, training=False, momentum=0.1, eps=1e-05)"
   ]
  },
  {
   "cell_type": "markdown",
   "id": "8de28970",
   "metadata": {},
   "source": [
    "> my output"
   ]
  },
  {
   "cell_type": "code",
   "execution_count": 43,
   "id": "0b56efdb",
   "metadata": {},
   "outputs": [
    {
     "name": "stdout",
     "output_type": "stream",
     "text": [
      "tensor([[[[ 0.0386, -0.3048, -1.1308,  ...,  0.2010,  0.2179, -1.5942],\n",
      "          [-2.1187, -1.7117,  0.0366,  ...,  0.8217, -0.5954, -1.2811],\n",
      "          [-0.8231,  1.7391, -0.6309,  ..., -0.4031, -0.6579, -0.9246],\n",
      "          ...,\n",
      "          [ 0.6479,  1.1194,  0.4647,  ...,  1.3838,  1.1622, -1.1065],\n",
      "          [ 0.4087,  0.6839,  0.9628,  ..., -0.2584, -2.4264,  1.2343],\n",
      "          [ 1.3137, -0.4247,  0.5679,  ...,  0.8844,  0.1244, -0.3869]],\n",
      "\n",
      "         [[ 1.5238,  1.2577,  0.5633,  ...,  0.8821, -0.2939,  0.6716],\n",
      "          [-1.8314,  0.1869, -1.1942,  ...,  0.1239,  0.4340,  0.8497],\n",
      "          [-0.5877,  3.1623,  0.5306,  ...,  0.8043, -0.7589, -1.8619],\n",
      "          ...,\n",
      "          [-1.4215, -0.4729, -1.4526,  ..., -0.1781, -0.5190,  0.2982],\n",
      "          [-0.7468, -0.5997,  0.9374,  ..., -0.2137, -0.7832,  1.0746],\n",
      "          [-0.3984,  1.0294,  0.9003,  ..., -0.0631, -1.2334, -1.1310]],\n",
      "\n",
      "         [[-1.0961, -1.7538,  0.1551,  ..., -0.5652, -0.9461, -1.4345],\n",
      "          [-0.2572,  0.2689,  0.3033,  ...,  1.3420,  0.8711,  2.1784],\n",
      "          [-1.1629,  1.2858, -1.0895,  ...,  0.0646, -0.2241, -0.3617],\n",
      "          ...,\n",
      "          [-0.0578, -0.4144, -1.0235,  ..., -1.4013, -1.0348, -0.4896],\n",
      "          [-0.7804, -0.7794, -0.6866,  ...,  0.1996, -0.4892,  0.0421],\n",
      "          [ 0.5940,  0.6126,  0.4972,  ..., -0.0183,  0.2508, -0.4761]]]])\n"
     ]
    }
   ],
   "source": [
    "def mybatch_norm(input, running_mean, running_var, momentum=0.1, eps=1e-05):\n",
    "    mean, var = running_mean[:, None, None], running_var[:, None, None]\n",
    "    return (input - mean) / torch.sqrt(var + eps)\n",
    "  \n",
    "my_out = mybatch_norm(input, mean, var)\n",
    "print(my_out)"
   ]
  },
  {
   "cell_type": "markdown",
   "id": "456aff55",
   "metadata": {},
   "source": [
    "> Check the difference"
   ]
  },
  {
   "cell_type": "code",
   "execution_count": 44,
   "id": "56b8cd70",
   "metadata": {},
   "outputs": [
    {
     "data": {
      "text/plain": [
       "4.7291874e-15"
      ]
     },
     "execution_count": 44,
     "metadata": {},
     "output_type": "execute_result"
    }
   ],
   "source": [
    "mean_squared_error(torch_out.numpy().reshape(-1),my_out.numpy().reshape(-1))"
   ]
  },
  {
   "cell_type": "markdown",
   "id": "0724a221",
   "metadata": {},
   "source": [
    "***"
   ]
  },
  {
   "cell_type": "markdown",
   "id": "48208287",
   "metadata": {},
   "source": [
    "# 2.5 cross_entropy"
   ]
  },
  {
   "cell_type": "code",
   "execution_count": 45,
   "id": "d8b1e5dc",
   "metadata": {},
   "outputs": [],
   "source": [
    "Input= torch.randn(1,3,32,32)\n",
    "target = torch.randint(3, (1, 32, 32), dtype = torch.int64)\n"
   ]
  },
  {
   "cell_type": "markdown",
   "id": "7187ef3d",
   "metadata": {},
   "source": [
    "> torch output"
   ]
  },
  {
   "cell_type": "code",
   "execution_count": 46,
   "id": "9d53afb8",
   "metadata": {},
   "outputs": [],
   "source": [
    "tourch_out=nn.functional.cross_entropy(input, target, weight=None,size_average=None, ignore_index=-100, reduce=None,reduction='mean')"
   ]
  },
  {
   "cell_type": "code",
   "execution_count": 47,
   "id": "6fafba98",
   "metadata": {},
   "outputs": [
    {
     "data": {
      "text/plain": [
       "tensor(1.4101)"
      ]
     },
     "execution_count": 47,
     "metadata": {},
     "output_type": "execute_result"
    }
   ],
   "source": [
    "tourch_out"
   ]
  },
  {
   "cell_type": "markdown",
   "id": "57d3148f",
   "metadata": {},
   "source": [
    "> torch output"
   ]
  },
  {
   "cell_type": "code",
   "execution_count": 48,
   "id": "f49394af",
   "metadata": {},
   "outputs": [
    {
     "name": "stdout",
     "output_type": "stream",
     "text": [
      "torch.Size([1])\n"
     ]
    }
   ],
   "source": [
    "def softmax(input):\n",
    "    result = torch.zeros(input.shape)\n",
    "    for i in range(len(input)):\n",
    "      e = torch.exp(input[i])\n",
    "      s = torch.sum(e, dim = 0)\n",
    "      soft = e / s\n",
    "      result[i] = -torch.log(soft)\n",
    "    return result\n",
    "    \n",
    "def loss(input, label):\n",
    "    ls = torch.zeros([len(input)])\n",
    "    for i in range(len(input)):\n",
    "        s = 0\n",
    "        for j in range(label.shape[1]):\n",
    "            for k in range(label.shape[2]):\n",
    "                index = label[i, j, k]\n",
    "                p = input[i, index, j ,k]\n",
    "                s += p\n",
    "        ls[i] = s / (label.shape[1] * label.shape[2])\n",
    "    return ls\n",
    "\n",
    "def my_cross_entropy(input, label):\n",
    "    log_softmax = softmax(input)\n",
    "    l = loss(log_softmax, label)\n",
    "    print(l.size())\n",
    "    return l.mean()\n",
    "\n",
    "my_out = my_cross_entropy(input, target.numpy())"
   ]
  },
  {
   "cell_type": "markdown",
   "id": "53a564a6",
   "metadata": {},
   "source": [
    "> difference"
   ]
  },
  {
   "cell_type": "code",
   "execution_count": 49,
   "id": "adb4ab21",
   "metadata": {},
   "outputs": [],
   "source": [
    "error = torch.abs(my_out - tourch_out).sum().data\n",
    "squared_error = ((my_out - tourch_out)*(my_out - tourch_out)).sum().data"
   ]
  },
  {
   "cell_type": "code",
   "execution_count": 50,
   "id": "75b8c088",
   "metadata": {},
   "outputs": [
    {
     "data": {
      "text/plain": [
       "array(0., dtype=float32)"
      ]
     },
     "execution_count": 50,
     "metadata": {},
     "output_type": "execute_result"
    }
   ],
   "source": [
    "squared_error.numpy()"
   ]
  },
  {
   "cell_type": "markdown",
   "id": "eda1a451",
   "metadata": {},
   "source": [
    "***"
   ]
  },
  {
   "cell_type": "markdown",
   "id": "f1fbc830",
   "metadata": {},
   "source": [
    "# 2.6 mse_loss"
   ]
  },
  {
   "cell_type": "markdown",
   "id": "e0754d41",
   "metadata": {},
   "source": [
    "> torch output"
   ]
  },
  {
   "cell_type": "code",
   "execution_count": 58,
   "id": "40ccc74c",
   "metadata": {},
   "outputs": [
    {
     "name": "stdout",
     "output_type": "stream",
     "text": [
      "tensor(1.9572)\n"
     ]
    }
   ],
   "source": [
    "y = torch.randn(1, 3, 32, 32)\n",
    "torch_out = torch.nn.functional.mse_loss(input, y, size_average=None, reduce=None, reduction='mean')\n",
    "print(torch_out)"
   ]
  },
  {
   "cell_type": "markdown",
   "id": "5862e8ea",
   "metadata": {},
   "source": [
    "> my output"
   ]
  },
  {
   "cell_type": "code",
   "execution_count": 59,
   "id": "8b21b3ce",
   "metadata": {},
   "outputs": [
    {
     "name": "stdout",
     "output_type": "stream",
     "text": [
      "tensor(1.9572)\n"
     ]
    }
   ],
   "source": [
    "def my_mse_loss(X, y):\n",
    "    sqr = (X - y) ** 2\n",
    "    return sqr.mean()\n",
    "\n",
    "my_out = my_mse_loss(input, y)\n",
    "print(my_out)"
   ]
  },
  {
   "cell_type": "markdown",
   "id": "5b4ce0ae",
   "metadata": {},
   "source": [
    "> difference"
   ]
  },
  {
   "cell_type": "code",
   "execution_count": 68,
   "id": "4f648f3e",
   "metadata": {},
   "outputs": [
    {
     "data": {
      "text/plain": [
       "tensor(0.)"
      ]
     },
     "execution_count": 68,
     "metadata": {},
     "output_type": "execute_result"
    }
   ],
   "source": [
    "error=torch.abs(torch_out-my_out).sum().data"
   ]
  },
  {
   "cell_type": "code",
   "execution_count": null,
   "id": "1ed45468",
   "metadata": {},
   "outputs": [],
   "source": []
  }
 ],
 "metadata": {
  "kernelspec": {
   "display_name": "Python 3 (ipykernel)",
   "language": "python",
   "name": "python3"
  },
  "language_info": {
   "codemirror_mode": {
    "name": "ipython",
    "version": 3
   },
   "file_extension": ".py",
   "mimetype": "text/x-python",
   "name": "python",
   "nbconvert_exporter": "python",
   "pygments_lexer": "ipython3",
   "version": "3.9.7"
  }
 },
 "nbformat": 4,
 "nbformat_minor": 5
}
