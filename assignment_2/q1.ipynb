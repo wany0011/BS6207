{
 "cells": [
  {
   "cell_type": "code",
   "execution_count": 22,
   "id": "73bd4a3f",
   "metadata": {},
   "outputs": [],
   "source": [
    "import math\n",
    "import numpy as np\n",
    "from matplotlib import pyplot as plt"
   ]
  },
  {
   "cell_type": "code",
   "execution_count": 23,
   "id": "5bba853b",
   "metadata": {},
   "outputs": [],
   "source": [
    "def fg(distance):\n",
    "    g =0\n",
    "    if distance<1:  # x=1-t\n",
    "        g = -1\n",
    "    else: # x=t till h\n",
    "        if distance > 1: # ignore h at this pioint of time\n",
    "            g = 1\n",
    "    return g"
   ]
  },
  {
   "cell_type": "code",
   "execution_count": 26,
   "id": "6bb484cf",
   "metadata": {},
   "outputs": [],
   "source": [
    "def ADAM_Estimator(h,t,b1,b2,e,alpha):\n",
    "    \n",
    "    s_list=[]\n",
    "    g_list=[]\n",
    "    \n",
    "   \n",
    "    s=h\n",
    "    \n",
    "    m=0.0\n",
    "    v=0.0 \n",
    "    \n",
    "    i= t\n",
    "    \n",
    "    while i<10000:\n",
    "        \n",
    "        i +=1\n",
    "        \n",
    "        g=fg(s)    \n",
    "        g_list.append(g)\n",
    "        \n",
    "        m = b1*m + (1-b1)*g\n",
    "        v = b2*v + (1-b2)*(g**2)\n",
    "        \n",
    "        mm = m/(1-(b1**i))\n",
    "        vv = v/(1-(b2**i))\n",
    "                \n",
    "        s = s - alpha*mm/(np.sqrt(vv)+e) \n",
    "        \n",
    "        s_list.append(s)\n",
    "        \n",
    "        \n",
    "    return (s_list,g_list)               "
   ]
  },
  {
   "cell_type": "code",
   "execution_count": 27,
   "id": "0828f1be",
   "metadata": {},
   "outputs": [
    {
     "name": "stdout",
     "output_type": "stream",
     "text": [
      "beta1=0.900000,beta2=0.999000\n"
     ]
    }
   ],
   "source": [
    "s_list,g_list=ADAM_Estimator(0,0,0.9,0.999,0,0.3)"
   ]
  },
  {
   "cell_type": "code",
   "execution_count": 33,
   "id": "96ee0785",
   "metadata": {},
   "outputs": [
    {
     "data": {
      "image/png": "[encoded data removed]",
      "text/plain": [
       "<Figure size 432x288 with 1 Axes>"
      ]
     },
     "metadata": {
      "needs_background": "light"
     },
     "output_type": "display_data"
    }
   ],
   "source": [
    "plt.plot(s_list[0:80],label='distance')\n",
    "plt.plot(g_list[0:80],label='gradient')\n",
    "plt.legend()\n",
    "plt.show()"
   ]
  },
  {
   "cell_type": "code",
   "execution_count": 35,
   "id": "5cb6f6ea",
   "metadata": {},
   "outputs": [
    {
     "data": {
      "text/plain": [
       "[0.3,\n",
       " 0.5999999999999979,\n",
       " 0.8999999999999977,\n",
       " 1.199999999999996,\n",
       " 1.353483431418032,\n",
       " 1.4101842951299657,\n",
       " 1.3985127716140042,\n",
       " 1.3362158088702085,\n",
       " 1.2351152242311638,\n",
       " 1.1034768180909407,\n",
       " 0.9473026798481183,\n",
       " 0.8547005754938878,\n",
       " 0.8147392651126985,\n",
       " 0.8188582414834126,\n",
       " 0.8602367216309504,\n",
       " 0.9333596673163272,\n",
       " 1.0337112952453666,\n",
       " 1.0869574871393082,\n",
       " 1.0993619475282252,\n",
       " 1.076202182305253,\n",
       " 1.0219570659015886,\n",
       " 0.9404519785166141,\n",
       " 0.9008074777594868,\n",
       " 0.8980714876953139,\n",
       " 0.9279505227259678,\n",
       " 0.9867074804892169,\n",
       " 1.0710781745027609,\n",
       " 1.114889113960664,\n",
       " 1.1226195199098639,\n",
       " 1.0982146329773756,\n",
       " 1.045157076888232,\n",
       " 0.9665272039001703,\n",
       " 0.9269677163643341,\n",
       " 0.9223356071295167,\n",
       " 0.948948828019247,\n",
       " 1.0035308184346592,\n",
       " 1.0219207965055404,\n",
       " 1.0078799795030657,\n",
       " 0.9647657658987477,\n",
       " 0.9564777353905015,\n",
       " 0.9794341463214143,\n",
       " 1.0304306263117702,\n",
       " 1.0459451306602183,\n",
       " 1.0295992105471956,\n",
       " 0.9846381303709483,\n",
       " 0.9744462762971673,\n",
       " 0.9954944638060517,\n",
       " 1.0446164573610546,\n",
       " 1.058625178323071,\n",
       " 1.0410703557809187,\n",
       " 0.9951393956821849,\n",
       " 0.9839465478549615,\n",
       " 1.0039903440722133,\n",
       " 0.9919211741436954,\n",
       " 1.0111541816447016,\n",
       " 0.9983762126533925,\n",
       " 1.0169533319420012,\n",
       " 1.0036019048242757,\n",
       " 0.9615282714177258,\n",
       " 0.9537235829989411,\n",
       " 0.9767492256021916,\n",
       " 1.0275126785010635,\n",
       " 1.0431537751029878,\n",
       " 1.027193503448254,\n",
       " 0.9827990870156219,\n",
       " 0.9728770335035077,\n",
       " 0.9939738461963195,\n",
       " 1.042982568989839,\n",
       " 1.0570661046372922,\n",
       " 1.0397215945744598,\n",
       " 0.994095586991128,\n",
       " 0.9830497305882796,\n",
       " 1.0031226741438057,\n",
       " 0.9911751597874316,\n",
       " 1.0104339428373958,\n",
       " 0.9977562130545634,\n",
       " 1.0163556297190788,\n",
       " 1.0030865090840944,\n",
       " 0.9611373384463867,\n",
       " 0.9533905572223939,\n",
       " 0.9764245064450395,\n",
       " 1.0271599629245196,\n",
       " 1.0428162867758823,\n",
       " 1.0269024529403539,\n",
       " 0.9825763371048921,\n",
       " 0.9726868311605779,\n",
       " 0.9937895143604607,\n",
       " 1.042784552407791,\n",
       " 1.0568771324540651,\n",
       " 1.0395580616394515,\n",
       " 0.9939689597239008,\n",
       " 0.9829409005424559,\n",
       " 1.003017374616119,\n",
       " 0.9910846014615823,\n",
       " 1.0103465088204404,\n",
       " 0.9976809328986498,\n",
       " 1.016283053819749,\n",
       " 1.0030239178591664,\n",
       " 0.9610898492209479,\n",
       " 0.9533500956953945]"
      ]
     },
     "execution_count": 35,
     "metadata": {},
     "output_type": "execute_result"
    }
   ],
   "source": [
    "s_list[0:100]"
   ]
  },
  {
   "cell_type": "code",
   "execution_count": null,
   "id": "9495afaa",
   "metadata": {},
   "outputs": [],
   "source": []
  },
  {
   "cell_type": "code",
   "execution_count": null,
   "id": "d6d6f6ea",
   "metadata": {},
   "outputs": [],
   "source": []
  }
 ],
 "metadata": {
  "kernelspec": {
   "display_name": "Python 3 (ipykernel)",
   "language": "python",
   "name": "python3"
  },
  "language_info": {
   "codemirror_mode": {
    "name": "ipython",
    "version": 3
   },
   "file_extension": ".py",
   "mimetype": "text/x-python",
   "name": "python",
   "nbconvert_exporter": "python",
   "pygments_lexer": "ipython3",
   "version": "3.9.7"
  }
 },
 "nbformat": 4,
 "nbformat_minor": 5
}
